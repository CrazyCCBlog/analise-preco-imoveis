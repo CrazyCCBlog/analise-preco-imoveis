{
 "cells": [
  {
   "cell_type": "code",
   "execution_count": null,
   "metadata": {},
   "outputs": [],
   "source": []
  },
  {
   "cell_type": "code",
   "execution_count": 1,
   "metadata": {},
   "outputs": [],
   "source": [
    "import ast \n",
    "path = \"/home/user/Documents/OLXScraper/olxprices/files\"\n",
    "\n",
    "def read_data(yy, mm, dd):\n",
    "    if len(dd) == 1:\n",
    "        dd = '0' + dd\n",
    "    file_path = path + '/alugueisOLX_' + str(yy) + '-' + str(mm) + '-' + str(dd) + '.txt'\n",
    "    data = []\n",
    "    \n",
    "    try:\n",
    "        with open(file_path) as f:\n",
    "            for line in f:\n",
    "                data.append(ast.literal_eval(line.replace('\\\\u00e3', 'ã').replace('\\\\u00e9', 'é').replace('\\\\u00e2', 'â') \\\n",
    "                            .replace('\\\\u00e1', 'á').replace('\\\\u00ed', 'í').replace('\\\\u00f3', 'ó') \\\n",
    "                            .replace('\\\\u00b2', '2').replace('\\\\u00f4', 'ô').replace('\\\\u00ea', 'ê') \\\n",
    "                            .replace('\\\\u00e7', 'ç').replace('\\\\u00f5', 'õ').replace('\\\\u00fa', 'ú') \\\n",
    "                            .replace('\\\\u00aa', '°').replace('\\\\u00e0', 'à').replace('\\\\u00c1', 'Á') \\\n",
    "                            .replace('\\\\u00c9', 'É').replace('\\\\u00d3', 'Ó').replace('\\\\u00ca', 'Ê') \\\n",
    "                            .replace('\\\\u00ba', '°').replace('\\\\u00cd', 'Í').replace('\\\\u00b0', '°') \\\n",
    "                            .replace('\\\\u00fce','ü').replace('\\\\u00c2', 'Ã').replace('\\\\u00c7', 'Ç') \\\n",
    "                            .replace('\\\\\"', '').replace('\\\\u00d4', 'Ô').replace('\\\\u00b4', '´') \\\n",
    "                            .replace('\\\\u00c3', 'Ã').replace('\\n', '').replace('null', '\"R$ 0\"')))\n",
    "    except IOError:\n",
    "        print(\"File not accessible\")\n",
    "        return []\n",
    "       \n",
    "    return data"
   ]
  },
  {
   "cell_type": "code",
   "execution_count": 31,
   "metadata": {},
   "outputs": [],
   "source": [
    "# Calcular similaridade:\n",
    "import Levenshtein\n",
    "import pandas as pd\n",
    "\n",
    "goiania_neighborhood = pd.read_csv(\"/home/user/Documents/OLXScraper/olxprices/files/bairros_goiania.csv\")\n",
    "neighborhood_list = [i for i in goiania_neighborhood['Bairro']]\n",
    "\n",
    "def best_neighborhood(string):\n",
    "    best_distance = 100\n",
    "    best_neighborhood = ''\n",
    "    \n",
    "    string = string.replace('Setor ', '')\n",
    "    \n",
    "    for neighborhood in neighborhood_list:\n",
    "        distance = Levenshtein.distance(string, neighborhood)\n",
    "        if distance == 1:\n",
    "            return neighborhood\n",
    "        elif distance < best_distance:\n",
    "            best_distance = distance\n",
    "            best_neighborhood = neighborhood\n",
    "            \n",
    "    return best_neighborhood if best_distance < 5 else None"
   ]
  },
  {
   "cell_type": "markdown",
   "metadata": {},
   "source": [
    "Process:"
   ]
  },
  {
   "cell_type": "code",
   "execution_count": 4,
   "metadata": {},
   "outputs": [
    {
     "name": "stdout",
     "output_type": "stream",
     "text": [
      "File not accessible\n",
      "File not accessible\n",
      "File not accessible\n"
     ]
    }
   ],
   "source": [
    "vetor_processed = {}\n",
    "complete_vector = []\n",
    "\n",
    "for day in range(1, 31):\n",
    "    vetor = read_data(2019,11,str(day))\n",
    "    complete_vector.append([vetor, day])\n",
    "    \n",
    "    for line in vetor:\n",
    "        \n",
    "        #Calcular a data de retirada do anuncio:\n",
    "        if line['id'] in vetor_processed:\n",
    "            vetor_processed[line['id']][5] = day\n",
    "        else:\n",
    "            vetor_processed[line['id']] = [line['titulo'], line['regiao'].split(', '), line['detalhes'], line['preco'].replace(' ', '').split('R$')[1], \\\n",
    "                                           line['data_de_publicacao'] if line['data_de_publicacao'] != 'Hoje' and line['data_de_publicacao'] != 'Ontem' else str(day) + ' Nov', 1]"
   ]
  },
  {
   "cell_type": "markdown",
   "metadata": {},
   "source": [
    "### Mapa que mostra valor médio dos imóveis por região"
   ]
  },
  {
   "cell_type": "code",
   "execution_count": 172,
   "metadata": {},
   "outputs": [
    {
     "data": {
      "application/vnd.plotly.v1+json": {
       "config": {
        "plotlyServerURL": "https://plot.ly"
       },
       "data": [
        {
         "hoverlabel": {
          "namelength": 0
         },
         "hovertemplate": "<b>%{hovertext}</b><br><br>Size=%{marker.size}<br>Latitude=%{lat}<br>Longitude=%{lon}<br>PrecoMedio=%{marker.color}",
         "hovertext": [
          "Residencial Alice Barbosa",
          "Asa Branca",
          "Atalaia",
          "Caraíbas",
          "Gentil Meireles",
          "Goiânia 2",
          "Humaitá",
          "Vila Itatiaia",
          "Residencial Itamaracá",
          "Jaó",
          "Jardim Balneário Meia Ponte",
          "Jardim Bom Jesus",
          "Jardim Diamantina",
          "Jardim Gramado",
          "Jardim Guanabara",
          "Jardim Ipê",
          "Vila Jardim Pompeia",
          "Morumbi",
          "Panorama Parque",
          "Parque das Nações",
          "Perim",
          "Progresso",
          "Residencial Itália",
          "Santa Genoveva",
          "Sevene",
          "Urias Magalhães",
          "Vila Clemente",
          "Aeroporto",
          "Aeroviário",
          "Campinas",
          "Castelo Branco",
          "Central",
          "Centro Oeste",
          "Cidade Jardim",
          "Coimbra",
          "Crimeia Leste",
          "Crimeia Oeste",
          "Esplanada do Anicuns",
          "Conjunto Guadalajara",
          "Vila Mooca",
          "Marechal Rondon",
          "Conjunto Morada Nova",
          "Negrão de Lima",
          "Nossa Senhora de Fátima",
          "Nova Vila",
          "Norte Ferroviário",
          "Parque Industrial de Goiânia",
          "Rodoviário",
          "São José",
          "Leste Universitário",
          "Vila Abajá",
          "Vila Aurora",
          "Vila Boa Sorte",
          "Vila Nova Canaã",
          "Vila Colemar Natal e Silva",
          "Vila Irany",
          "Leste Vila Nova",
          "Vila São José",
          "Vila Viana",
          "Alto do Vale",
          "Da Vitória",
          "Residencial Brisas da Mata",
          "Cândida de Morais",
          "Vila Finsocial",
          "Floresta",
          "Jardim Curitiba",
          "Jardim Liberdade",
          "Jardim Nova Esperança",
          "Morada do Sol",
          "Residencial Recanto do Bosque",
          "Parque Tremendão",
          "Solange Park",
          "Vila Mutirão",
          "Alto da Glória",
          "Bela Vista",
          "Bueno",
          "Jardim América",
          "Jardim das Esmeraldas",
          "Jardim Goiás",
          "Jardim Santo Antônio",
          "Marista",
          "Nova Suíça",
          "Oeste",
          "Parque Amazônia",
          "Pedro Ludovico",
          "Serrinha",
          "Vila Americano do Brasil",
          "Vila Redenção",
          "Parque Atheneu",
          "Capuava",
          "Loteamento Celina Parque",
          "Conjunto Vera Cruz",
          "Goiá",
          "Residencial Goiânia Viva",
          "Ipiranga",
          "Jardim Botânico",
          "Jardim das Oliveiras",
          "Residencial Jardim Leblon",
          "Vila João Vaz",
          "Parque Eldorado Oeste",
          "Residencial Primavera",
          "Solange Parque",
          "Chácara do Governador",
          "Conjunto Caiçara",
          "Jardim Conquista",
          "Jardim da Luz",
          "Jardim Novo Mundo",
          "Parque das Laranjeiras",
          "Rio Jordão",
          "Residencial Center Ville",
          "Residencial Eldorado",
          "Faiçalville",
          "Garavelo",
          "Jardim Atlântico",
          "Jardim Ana Lúcia",
          "Jardim Europa",
          "Jardim Planalto",
          "Jardim Presidente",
          "Moinho dos Ventos",
          "Novo Horizonte",
          "Parque Anhanguera",
          "Parque Oeste Industrial",
          "Rio Formoso",
          "Sudoeste",
          "União",
          "Vila Adélia",
          "Vila Lucy",
          "Vila Mauá",
          "Sul",
          "Sol Nascente",
          "Jardim das Hortensias",
          "Jardim Petrópolis",
          "Jardim Vila Boa",
          "Jardim Brasil",
          "Vila Santana",
          "Vila Santa Helena",
          "Jardim Dom Fernando II",
          "Condomínio das Esmeraldas",
          "Jardim Colorado",
          "São Francisco",
          "Vila Aurora Oeste",
          "dos Funcionários",
          "Residencial Aldeia do Vale",
          "Residencial Granville",
          "Estrela Dalva",
          "Alphaville Flamboyant Residencial Araguaia",
          "Barra da Tijuca",
          "Jardins Madri"
         ],
         "lat": [
          -16.600861,
          -16.60869,
          -16.5909,
          -16.780739999999998,
          -16.64851,
          -16.6304215,
          -16.625729999999997,
          -16.602884200000002,
          -16.648239999999998,
          -16.6450566,
          -16.61499,
          -16.61644,
          -16.63569,
          -16.6360366,
          -16.62121,
          -16.6241671,
          -16.61124,
          -16.646374599999998,
          -16.643312599999998,
          -16.619422,
          -16.650966399999998,
          -16.648646900000003,
          -16.6225009,
          -16.635617,
          -16.635115,
          -16.634111800000003,
          -16.6514799,
          -16.6718245,
          -16.665074800000003,
          -16.6608633,
          -16.6806077,
          -16.6711921,
          -16.653938,
          -16.681827,
          -16.6789292,
          -16.6482286,
          -16.649803,
          -16.664847,
          -16.6805435,
          -16.677165900000002,
          -16.663831400000003,
          -16.680978,
          -16.653329199999998,
          -16.687464499999997,
          -16.659513,
          -16.657857500000002,
          -16.6584443,
          -16.6737945,
          -16.6589824,
          -16.6793688,
          -16.662322699999997,
          -16.6794096,
          -16.6878807,
          -16.6900458,
          -16.665688,
          -16.6572348,
          -16.665360699999997,
          -16.6589824,
          -16.6566745,
          -16.614562,
          -16.601029500000003,
          -16.598482,
          -16.648216199999997,
          -16.622488399999998,
          -16.5852386,
          -16.601802499999998,
          -16.613744099999998,
          -16.6420981,
          -16.6186122,
          -16.6025236,
          -16.6148,
          -16.6990968,
          -16.6179074,
          -16.7153973,
          -16.715898199999998,
          -16.7002168,
          -16.708571799999998,
          -16.720016,
          -16.698346400000002,
          -16.701262699999997,
          -16.701262699999997,
          -16.706801000000002,
          -16.684057,
          -16.7307921,
          -16.7148603,
          -16.7212195,
          -16.6896427,
          -16.720568,
          -16.745127800000002,
          -16.657885099999998,
          -16.712855100000002,
          -16.683641,
          -16.6826346,
          -16.6983505,
          -16.6622405,
          -16.7294081,
          -16.7019901,
          -16.674736499999998,
          -16.6508788,
          -16.6881362,
          -16.6820286,
          -16.6990968,
          -16.7274218,
          -16.6563216,
          -16.6674616,
          -16.723852800000003,
          -16.674725,
          -16.726388099999998,
          -16.6421661,
          -16.753112599999998,
          -16.707845000000002,
          -16.737156,
          -16.7474995,
          -16.7347665,
          -16.6999882,
          -16.716000199999996,
          -16.7152992,
          -16.7362492,
          -16.7297001,
          -16.718815300000003,
          -16.7251965,
          -16.6942655,
          -16.7221609,
          -16.6956433,
          -16.702490599999997,
          -16.687737300000002,
          -16.688001999999997,
          -16.7020172,
          -16.6904152,
          -16.6883963,
          -16.621953599999998,
          -16.6674978,
          -16.728432,
          -16.6931723,
          -16.659817999999998,
          -16.6554261,
          -16.6666475,
          -16.7845426,
          -16.6311692,
          -16.6662604,
          -16.6781859,
          -16.6698038,
          -16.6119769,
          -16.715240599999998,
          -16.5923061,
          -16.7139112,
          -16.6570783,
          -16.7483909
         ],
         "legendgroup": "",
         "lon": [
          -49.270699,
          -49.2084,
          -49.25763,
          -49.35004,
          -49.28524,
          -49.258864,
          -49.274570000000004,
          -49.2586643,
          -49.30064,
          -49.2375154,
          -49.29667,
          -49.270070000000004,
          -49.28072,
          -49.3041779,
          -49.21609,
          -49.2834248,
          -49.243840000000006,
          -49.2796431,
          -49.2793201,
          -49.2862796,
          -49.2974227,
          -49.29651320000001,
          -49.2979216,
          -49.2455967,
          -49.29843579999999,
          -49.283778600000005,
          -49.295789899999995,
          -49.2730014,
          -49.309109299999996,
          -49.3014804,
          -49.302127399999996,
          -49.265183,
          -49.2826712,
          -49.305981,
          -49.295905600000005,
          -49.262996,
          -49.268856,
          -49.318141499999996,
          -49.3197872,
          -49.3219865,
          -49.276546200000006,
          -49.319783,
          -49.2469973,
          -49.321655799999995,
          -49.258590999999996,
          -49.270661499999996,
          -49.2363316,
          -49.310532200000004,
          -49.316774,
          -49.2474232,
          -49.29870820000001,
          -49.309084399999996,
          -49.2948407,
          -49.3172439,
          -49.2414278,
          -49.2947943,
          -49.2532523,
          -49.3167527,
          -49.242146500000004,
          -49.314232399999995,
          -49.3617847,
          -49.3123931,
          -49.330937899999995,
          -49.3251179,
          -49.3393213,
          -49.3435516,
          -49.3503829,
          -49.3366098,
          -49.3310391,
          -49.318167200000005,
          -49.3395213,
          -49.3574643,
          -49.3564173,
          -49.2472304,
          -49.26559879999999,
          -49.28302670000001,
          -49.2932361,
          -49.2666971,
          -49.246646399999996,
          -49.279126,
          -49.2791268,
          -49.284724600000004,
          -49.278760399999996,
          -49.2886162,
          -49.2590657,
          -49.2714516,
          -49.290243,
          -49.2482996,
          -49.2032068,
          -49.3293944,
          -49.32378320000001,
          -49.4290718,
          -49.3348776,
          -49.354783399999995,
          -49.3297119,
          -49.3891109,
          -49.372594799999995,
          -49.33326339999999,
          -49.31195,
          -49.41223529999999,
          -49.394907,
          -49.3574643,
          -49.2285179,
          -49.215822700000004,
          -49.19467879999999,
          -49.240281700000004,
          -49.22488370000001,
          -49.23424779999999,
          -49.190514,
          -49.3513941,
          -49.330422600000006,
          -49.326440600000005,
          -49.3705031,
          -49.2988112,
          -49.315907200000005,
          -49.3088252,
          -49.3146086,
          -49.3409385,
          -49.351225799999995,
          -49.315527100000004,
          -49.3039299,
          -49.334987,
          -49.3374767,
          -49.3038433,
          -49.3184675,
          -49.32831289999999,
          -49.3177967,
          -49.3242911,
          -49.261595799999995,
          -49.297760700000005,
          -49.3382034,
          -49.3566162,
          -49.3249748,
          -49.217938700000005,
          -49.2970956,
          -49.2871844,
          -49.200317299999995,
          -49.3641348,
          -49.3386919,
          -49.3423519,
          -49.3076919,
          -49.284002799999996,
          -49.1974322,
          -49.331875200000006,
          -49.329732299999996,
          -49.2017695,
          -49.3611713,
          -49.345426700000004
         ],
         "marker": {
          "color": [
           660,
           450,
           600,
           940,
           814.2857142857143,
           1112.5714285714287,
           1200,
           846.25,
           850,
           2862.5,
           890.6764705882352,
           453.3333333333333,
           473.3333333333333,
           633.3333333333334,
           817.3333333333334,
           636.3636363636364,
           877.1428571428571,
           536,
           618.3333333333334,
           765,
           918.2352941176471,
           575,
           853,
           824.5652173913044,
           500,
           645.92,
           787.5,
           1136.6666666666667,
           462.5,
           742.3529411764706,
           787.1428571428571,
           887.3076923076923,
           685,
           864.3589743589744,
           1220,
           648.9285714285714,
           772.2222222222222,
           648.3333333333334,
           1075,
           1122.622950819672,
           975,
           500,
           926.1904761904761,
           702.5,
           816.6666666666666,
           725.3333333333334,
           950,
           833.1666666666666,
           659.2857142857143,
           890.2380952380952,
           919.6428571428571,
           770,
           550,
           675,
           1200,
           775,
           813.75,
           908.3076923076923,
           908.125,
           1016.6666666666666,
           600,
           855,
           802.5,
           554,
           660,
           650,
           400,
           754.2105263157895,
           656.7272727272727,
           756.25,
           649.6666666666666,
           750,
           1000,
           1385,
           1408.6,
           1831.7216828478965,
           1068.6666666666667,
           825,
           1928.1560283687943,
           652.5,
           2492.3382352941176,
           2055.609756097561,
           1726.1344537815125,
           1054.1709401709402,
           922.560975609756,
           1920.8333333333333,
           1333.3333333333333,
           728.6666666666666,
           725,
           680.9090909090909,
           1421.4285714285713,
           610,
           927.2727272727273,
           800,
           1060,
           950,
           525,
           1737.5,
           822.8571428571429,
           575,
           980,
           557.1428571428571,
           1600,
           1240,
           250,
           758.0769230769231,
           678.2978723404256,
           1550,
           650,
           1215,
           970.1851851851852,
           775.5882352941177,
           525.3076923076923,
           1488.888888888889,
           768,
           823.5897435897435,
           890,
           794.3703703703703,
           782.1071428571429,
           796.1111111111111,
           1043.75,
           868.0597014925373,
           625,
           958.5882352941177,
           915,
           900,
           727.7777777777778,
           945.4545454545455,
           1321.5428571428572,
           650.9090909090909,
           603.75,
           770,
           934,
           913,
           800,
           612.2222222222222,
           600,
           777.5,
           693.75,
           820.4285714285714,
           775,
           864.0526315789474,
           6450,
           1595,
           750,
           4575,
           621.4285714285714,
           2284.375
          ],
          "coloraxis": "coloraxis",
          "size": [
           8,
           2,
           1,
           5,
           7,
           35,
           1,
           8,
           2,
           8,
           34,
           3,
           3,
           3,
           30,
           11,
           7,
           5,
           3,
           26,
           17,
           4,
           15,
           23,
           2,
           25,
           4,
           39,
           12,
           51,
           7,
           156,
           28,
           39,
           29,
           14,
           9,
           3,
           4,
           61,
           6,
           1,
           63,
           8,
           3,
           15,
           7,
           6,
           14,
           147,
           28,
           3,
           3,
           2,
           1,
           4,
           84,
           13,
           16,
           3,
           2,
           8,
           14,
           10,
           5,
           16,
           3,
           19,
           22,
           16,
           6,
           1,
           1,
           57,
           100,
           309,
           207,
           11,
           141,
           12,
           68,
           41,
           119,
           117,
           82,
           12,
           3,
           15,
           12,
           11,
           14,
           13,
           11,
           4,
           8,
           2,
           2,
           4,
           7,
           2,
           1,
           7,
           1,
           5,
           1,
           26,
           47,
           2,
           2,
           8,
           54,
           34,
           13,
           45,
           10,
           39,
           12,
           27,
           28,
           18,
           8,
           67,
           2,
           85,
           10,
           2,
           9,
           11,
           105,
           22,
           8,
           7,
           15,
           10,
           5,
           9,
           2,
           4,
           8,
           14,
           2,
           19,
           4,
           4,
           4,
           2,
           7,
           16
          ],
          "sizemode": "area",
          "sizeref": 0.7725
         },
         "mode": "markers",
         "name": "",
         "showlegend": false,
         "subplot": "mapbox",
         "type": "scattermapbox"
        }
       ],
       "layout": {
        "coloraxis": {
         "colorbar": {
          "title": {
           "text": "PrecoMedio"
          }
         },
         "colorscale": [
          [
           0,
           "#0d0887"
          ],
          [
           0.1111111111111111,
           "#46039f"
          ],
          [
           0.2222222222222222,
           "#7201a8"
          ],
          [
           0.3333333333333333,
           "#9c179e"
          ],
          [
           0.4444444444444444,
           "#bd3786"
          ],
          [
           0.5555555555555556,
           "#d8576b"
          ],
          [
           0.6666666666666666,
           "#ed7953"
          ],
          [
           0.7777777777777778,
           "#fb9f3a"
          ],
          [
           0.8888888888888888,
           "#fdca26"
          ],
          [
           1,
           "#f0f921"
          ]
         ]
        },
        "height": 600,
        "legend": {
         "itemsizing": "constant",
         "tracegroupgap": 0
        },
        "mapbox": {
         "center": {
          "lat": -16.672045891216214,
          "lon": -49.29758444527027
         },
         "domain": {
          "x": [
           0,
           0.98
          ],
          "y": [
           0,
           1
          ]
         },
         "style": "open-street-map",
         "zoom": 11
        },
        "margin": {
         "b": 0,
         "l": 0,
         "r": 0,
         "t": 0
        },
        "template": {
         "data": {
          "bar": [
           {
            "error_x": {
             "color": "#2a3f5f"
            },
            "error_y": {
             "color": "#2a3f5f"
            },
            "marker": {
             "line": {
              "color": "#E5ECF6",
              "width": 0.5
             }
            },
            "type": "bar"
           }
          ],
          "barpolar": [
           {
            "marker": {
             "line": {
              "color": "#E5ECF6",
              "width": 0.5
             }
            },
            "type": "barpolar"
           }
          ],
          "carpet": [
           {
            "aaxis": {
             "endlinecolor": "#2a3f5f",
             "gridcolor": "white",
             "linecolor": "white",
             "minorgridcolor": "white",
             "startlinecolor": "#2a3f5f"
            },
            "baxis": {
             "endlinecolor": "#2a3f5f",
             "gridcolor": "white",
             "linecolor": "white",
             "minorgridcolor": "white",
             "startlinecolor": "#2a3f5f"
            },
            "type": "carpet"
           }
          ],
          "choropleth": [
           {
            "colorbar": {
             "outlinewidth": 0,
             "ticks": ""
            },
            "type": "choropleth"
           }
          ],
          "contour": [
           {
            "colorbar": {
             "outlinewidth": 0,
             "ticks": ""
            },
            "colorscale": [
             [
              0,
              "#0d0887"
             ],
             [
              0.1111111111111111,
              "#46039f"
             ],
             [
              0.2222222222222222,
              "#7201a8"
             ],
             [
              0.3333333333333333,
              "#9c179e"
             ],
             [
              0.4444444444444444,
              "#bd3786"
             ],
             [
              0.5555555555555556,
              "#d8576b"
             ],
             [
              0.6666666666666666,
              "#ed7953"
             ],
             [
              0.7777777777777778,
              "#fb9f3a"
             ],
             [
              0.8888888888888888,
              "#fdca26"
             ],
             [
              1,
              "#f0f921"
             ]
            ],
            "type": "contour"
           }
          ],
          "contourcarpet": [
           {
            "colorbar": {
             "outlinewidth": 0,
             "ticks": ""
            },
            "type": "contourcarpet"
           }
          ],
          "heatmap": [
           {
            "colorbar": {
             "outlinewidth": 0,
             "ticks": ""
            },
            "colorscale": [
             [
              0,
              "#0d0887"
             ],
             [
              0.1111111111111111,
              "#46039f"
             ],
             [
              0.2222222222222222,
              "#7201a8"
             ],
             [
              0.3333333333333333,
              "#9c179e"
             ],
             [
              0.4444444444444444,
              "#bd3786"
             ],
             [
              0.5555555555555556,
              "#d8576b"
             ],
             [
              0.6666666666666666,
              "#ed7953"
             ],
             [
              0.7777777777777778,
              "#fb9f3a"
             ],
             [
              0.8888888888888888,
              "#fdca26"
             ],
             [
              1,
              "#f0f921"
             ]
            ],
            "type": "heatmap"
           }
          ],
          "heatmapgl": [
           {
            "colorbar": {
             "outlinewidth": 0,
             "ticks": ""
            },
            "colorscale": [
             [
              0,
              "#0d0887"
             ],
             [
              0.1111111111111111,
              "#46039f"
             ],
             [
              0.2222222222222222,
              "#7201a8"
             ],
             [
              0.3333333333333333,
              "#9c179e"
             ],
             [
              0.4444444444444444,
              "#bd3786"
             ],
             [
              0.5555555555555556,
              "#d8576b"
             ],
             [
              0.6666666666666666,
              "#ed7953"
             ],
             [
              0.7777777777777778,
              "#fb9f3a"
             ],
             [
              0.8888888888888888,
              "#fdca26"
             ],
             [
              1,
              "#f0f921"
             ]
            ],
            "type": "heatmapgl"
           }
          ],
          "histogram": [
           {
            "marker": {
             "colorbar": {
              "outlinewidth": 0,
              "ticks": ""
             }
            },
            "type": "histogram"
           }
          ],
          "histogram2d": [
           {
            "colorbar": {
             "outlinewidth": 0,
             "ticks": ""
            },
            "colorscale": [
             [
              0,
              "#0d0887"
             ],
             [
              0.1111111111111111,
              "#46039f"
             ],
             [
              0.2222222222222222,
              "#7201a8"
             ],
             [
              0.3333333333333333,
              "#9c179e"
             ],
             [
              0.4444444444444444,
              "#bd3786"
             ],
             [
              0.5555555555555556,
              "#d8576b"
             ],
             [
              0.6666666666666666,
              "#ed7953"
             ],
             [
              0.7777777777777778,
              "#fb9f3a"
             ],
             [
              0.8888888888888888,
              "#fdca26"
             ],
             [
              1,
              "#f0f921"
             ]
            ],
            "type": "histogram2d"
           }
          ],
          "histogram2dcontour": [
           {
            "colorbar": {
             "outlinewidth": 0,
             "ticks": ""
            },
            "colorscale": [
             [
              0,
              "#0d0887"
             ],
             [
              0.1111111111111111,
              "#46039f"
             ],
             [
              0.2222222222222222,
              "#7201a8"
             ],
             [
              0.3333333333333333,
              "#9c179e"
             ],
             [
              0.4444444444444444,
              "#bd3786"
             ],
             [
              0.5555555555555556,
              "#d8576b"
             ],
             [
              0.6666666666666666,
              "#ed7953"
             ],
             [
              0.7777777777777778,
              "#fb9f3a"
             ],
             [
              0.8888888888888888,
              "#fdca26"
             ],
             [
              1,
              "#f0f921"
             ]
            ],
            "type": "histogram2dcontour"
           }
          ],
          "mesh3d": [
           {
            "colorbar": {
             "outlinewidth": 0,
             "ticks": ""
            },
            "type": "mesh3d"
           }
          ],
          "parcoords": [
           {
            "line": {
             "colorbar": {
              "outlinewidth": 0,
              "ticks": ""
             }
            },
            "type": "parcoords"
           }
          ],
          "scatter": [
           {
            "marker": {
             "colorbar": {
              "outlinewidth": 0,
              "ticks": ""
             }
            },
            "type": "scatter"
           }
          ],
          "scatter3d": [
           {
            "line": {
             "colorbar": {
              "outlinewidth": 0,
              "ticks": ""
             }
            },
            "marker": {
             "colorbar": {
              "outlinewidth": 0,
              "ticks": ""
             }
            },
            "type": "scatter3d"
           }
          ],
          "scattercarpet": [
           {
            "marker": {
             "colorbar": {
              "outlinewidth": 0,
              "ticks": ""
             }
            },
            "type": "scattercarpet"
           }
          ],
          "scattergeo": [
           {
            "marker": {
             "colorbar": {
              "outlinewidth": 0,
              "ticks": ""
             }
            },
            "type": "scattergeo"
           }
          ],
          "scattergl": [
           {
            "marker": {
             "colorbar": {
              "outlinewidth": 0,
              "ticks": ""
             }
            },
            "type": "scattergl"
           }
          ],
          "scattermapbox": [
           {
            "marker": {
             "colorbar": {
              "outlinewidth": 0,
              "ticks": ""
             }
            },
            "type": "scattermapbox"
           }
          ],
          "scatterpolar": [
           {
            "marker": {
             "colorbar": {
              "outlinewidth": 0,
              "ticks": ""
             }
            },
            "type": "scatterpolar"
           }
          ],
          "scatterpolargl": [
           {
            "marker": {
             "colorbar": {
              "outlinewidth": 0,
              "ticks": ""
             }
            },
            "type": "scatterpolargl"
           }
          ],
          "scatterternary": [
           {
            "marker": {
             "colorbar": {
              "outlinewidth": 0,
              "ticks": ""
             }
            },
            "type": "scatterternary"
           }
          ],
          "surface": [
           {
            "colorbar": {
             "outlinewidth": 0,
             "ticks": ""
            },
            "colorscale": [
             [
              0,
              "#0d0887"
             ],
             [
              0.1111111111111111,
              "#46039f"
             ],
             [
              0.2222222222222222,
              "#7201a8"
             ],
             [
              0.3333333333333333,
              "#9c179e"
             ],
             [
              0.4444444444444444,
              "#bd3786"
             ],
             [
              0.5555555555555556,
              "#d8576b"
             ],
             [
              0.6666666666666666,
              "#ed7953"
             ],
             [
              0.7777777777777778,
              "#fb9f3a"
             ],
             [
              0.8888888888888888,
              "#fdca26"
             ],
             [
              1,
              "#f0f921"
             ]
            ],
            "type": "surface"
           }
          ],
          "table": [
           {
            "cells": {
             "fill": {
              "color": "#EBF0F8"
             },
             "line": {
              "color": "white"
             }
            },
            "header": {
             "fill": {
              "color": "#C8D4E3"
             },
             "line": {
              "color": "white"
             }
            },
            "type": "table"
           }
          ]
         },
         "layout": {
          "annotationdefaults": {
           "arrowcolor": "#2a3f5f",
           "arrowhead": 0,
           "arrowwidth": 1
          },
          "colorscale": {
           "diverging": [
            [
             0,
             "#8e0152"
            ],
            [
             0.1,
             "#c51b7d"
            ],
            [
             0.2,
             "#de77ae"
            ],
            [
             0.3,
             "#f1b6da"
            ],
            [
             0.4,
             "#fde0ef"
            ],
            [
             0.5,
             "#f7f7f7"
            ],
            [
             0.6,
             "#e6f5d0"
            ],
            [
             0.7,
             "#b8e186"
            ],
            [
             0.8,
             "#7fbc41"
            ],
            [
             0.9,
             "#4d9221"
            ],
            [
             1,
             "#276419"
            ]
           ],
           "sequential": [
            [
             0,
             "#0d0887"
            ],
            [
             0.1111111111111111,
             "#46039f"
            ],
            [
             0.2222222222222222,
             "#7201a8"
            ],
            [
             0.3333333333333333,
             "#9c179e"
            ],
            [
             0.4444444444444444,
             "#bd3786"
            ],
            [
             0.5555555555555556,
             "#d8576b"
            ],
            [
             0.6666666666666666,
             "#ed7953"
            ],
            [
             0.7777777777777778,
             "#fb9f3a"
            ],
            [
             0.8888888888888888,
             "#fdca26"
            ],
            [
             1,
             "#f0f921"
            ]
           ],
           "sequentialminus": [
            [
             0,
             "#0d0887"
            ],
            [
             0.1111111111111111,
             "#46039f"
            ],
            [
             0.2222222222222222,
             "#7201a8"
            ],
            [
             0.3333333333333333,
             "#9c179e"
            ],
            [
             0.4444444444444444,
             "#bd3786"
            ],
            [
             0.5555555555555556,
             "#d8576b"
            ],
            [
             0.6666666666666666,
             "#ed7953"
            ],
            [
             0.7777777777777778,
             "#fb9f3a"
            ],
            [
             0.8888888888888888,
             "#fdca26"
            ],
            [
             1,
             "#f0f921"
            ]
           ]
          },
          "colorway": [
           "#636efa",
           "#EF553B",
           "#00cc96",
           "#ab63fa",
           "#FFA15A",
           "#19d3f3",
           "#FF6692",
           "#B6E880",
           "#FF97FF",
           "#FECB52"
          ],
          "font": {
           "color": "#2a3f5f"
          },
          "geo": {
           "bgcolor": "white",
           "lakecolor": "white",
           "landcolor": "#E5ECF6",
           "showlakes": true,
           "showland": true,
           "subunitcolor": "white"
          },
          "hoverlabel": {
           "align": "left"
          },
          "hovermode": "closest",
          "mapbox": {
           "style": "light"
          },
          "paper_bgcolor": "white",
          "plot_bgcolor": "#E5ECF6",
          "polar": {
           "angularaxis": {
            "gridcolor": "white",
            "linecolor": "white",
            "ticks": ""
           },
           "bgcolor": "#E5ECF6",
           "radialaxis": {
            "gridcolor": "white",
            "linecolor": "white",
            "ticks": ""
           }
          },
          "scene": {
           "xaxis": {
            "backgroundcolor": "#E5ECF6",
            "gridcolor": "white",
            "gridwidth": 2,
            "linecolor": "white",
            "showbackground": true,
            "ticks": "",
            "zerolinecolor": "white"
           },
           "yaxis": {
            "backgroundcolor": "#E5ECF6",
            "gridcolor": "white",
            "gridwidth": 2,
            "linecolor": "white",
            "showbackground": true,
            "ticks": "",
            "zerolinecolor": "white"
           },
           "zaxis": {
            "backgroundcolor": "#E5ECF6",
            "gridcolor": "white",
            "gridwidth": 2,
            "linecolor": "white",
            "showbackground": true,
            "ticks": "",
            "zerolinecolor": "white"
           }
          },
          "shapedefaults": {
           "line": {
            "color": "#2a3f5f"
           }
          },
          "ternary": {
           "aaxis": {
            "gridcolor": "white",
            "linecolor": "white",
            "ticks": ""
           },
           "baxis": {
            "gridcolor": "white",
            "linecolor": "white",
            "ticks": ""
           },
           "bgcolor": "#E5ECF6",
           "caxis": {
            "gridcolor": "white",
            "linecolor": "white",
            "ticks": ""
           }
          },
          "title": {
           "x": 0.05
          },
          "xaxis": {
           "automargin": true,
           "gridcolor": "white",
           "linecolor": "white",
           "ticks": "",
           "zerolinecolor": "white",
           "zerolinewidth": 2
          },
          "yaxis": {
           "automargin": true,
           "gridcolor": "white",
           "linecolor": "white",
           "ticks": "",
           "zerolinecolor": "white",
           "zerolinewidth": 2
          }
         }
        }
       }
      },
      "text/html": [
       "<div>\n",
       "        \n",
       "        \n",
       "            <div id=\"89dd5517-3c2d-4de2-9b2f-3d65145acefe\" class=\"plotly-graph-div\" style=\"height:600px; width:100%;\"></div>\n",
       "            <script type=\"text/javascript\">\n",
       "                require([\"plotly\"], function(Plotly) {\n",
       "                    window.PLOTLYENV=window.PLOTLYENV || {};\n",
       "                    \n",
       "                if (document.getElementById(\"89dd5517-3c2d-4de2-9b2f-3d65145acefe\")) {\n",
       "                    Plotly.newPlot(\n",
       "                        '89dd5517-3c2d-4de2-9b2f-3d65145acefe',\n",
       "                        [{\"hoverlabel\": {\"namelength\": 0}, \"hovertemplate\": \"<b>%{hovertext}</b><br><br>Size=%{marker.size}<br>Latitude=%{lat}<br>Longitude=%{lon}<br>PrecoMedio=%{marker.color}\", \"hovertext\": [\"Residencial Alice Barbosa\", \"Asa Branca\", \"Atalaia\", \"Cara\\u00edbas\", \"Gentil Meireles\", \"Goi\\u00e2nia 2\", \"Humait\\u00e1\", \"Vila Itatiaia\", \"Residencial Itamarac\\u00e1\", \"Ja\\u00f3\", \"Jardim Balne\\u00e1rio Meia Ponte\", \"Jardim Bom Jesus\", \"Jardim Diamantina\", \"Jardim Gramado\", \"Jardim Guanabara\", \"Jardim Ip\\u00ea\", \"Vila Jardim Pompeia\", \"Morumbi\", \"Panorama Parque\", \"Parque das Na\\u00e7\\u00f5es\", \"Perim\", \"Progresso\", \"Residencial It\\u00e1lia\", \"Santa Genoveva\", \"Sevene\", \"Urias Magalh\\u00e3es\", \"Vila Clemente\", \"Aeroporto\", \"Aerovi\\u00e1rio\", \"Campinas\", \"Castelo Branco\", \"Central\", \"Centro Oeste\", \"Cidade Jardim\", \"Coimbra\", \"Crimeia Leste\", \"Crimeia Oeste\", \"Esplanada do Anicuns\", \"Conjunto Guadalajara\", \"Vila Mooca\", \"Marechal Rondon\", \"Conjunto Morada Nova\", \"Negr\\u00e3o de Lima\", \"Nossa Senhora de F\\u00e1tima\", \"Nova Vila\", \"Norte Ferrovi\\u00e1rio\", \"Parque Industrial de Goi\\u00e2nia\", \"Rodovi\\u00e1rio\", \"S\\u00e3o Jos\\u00e9\", \"Leste Universit\\u00e1rio\", \"Vila Abaj\\u00e1\", \"Vila Aurora\", \"Vila Boa Sorte\", \"Vila Nova Cana\\u00e3\", \"Vila Colemar Natal e Silva\", \"Vila Irany\", \"Leste Vila Nova\", \"Vila S\\u00e3o Jos\\u00e9\", \"Vila Viana\", \"Alto do Vale\", \"Da Vit\\u00f3ria\", \"Residencial Brisas da Mata\", \"C\\u00e2ndida de Morais\", \"Vila Finsocial\", \"Floresta\", \"Jardim Curitiba\", \"Jardim Liberdade\", \"Jardim Nova Esperan\\u00e7a\", \"Morada do Sol\", \"Residencial Recanto do Bosque\", \"Parque Tremend\\u00e3o\", \"Solange Park\", \"Vila Mutir\\u00e3o\", \"Alto da Gl\\u00f3ria\", \"Bela Vista\", \"Bueno\", \"Jardim Am\\u00e9rica\", \"Jardim das Esmeraldas\", \"Jardim Goi\\u00e1s\", \"Jardim Santo Ant\\u00f4nio\", \"Marista\", \"Nova Su\\u00ed\\u00e7a\", \"Oeste\", \"Parque Amaz\\u00f4nia\", \"Pedro Ludovico\", \"Serrinha\", \"Vila Americano do Brasil\", \"Vila Reden\\u00e7\\u00e3o\", \"Parque Atheneu\", \"Capuava\", \"Loteamento Celina Parque\", \"Conjunto Vera Cruz\", \"Goi\\u00e1\", \"Residencial Goi\\u00e2nia Viva\", \"Ipiranga\", \"Jardim Bot\\u00e2nico\", \"Jardim das Oliveiras\", \"Residencial Jardim Leblon\", \"Vila Jo\\u00e3o Vaz\", \"Parque Eldorado Oeste\", \"Residencial Primavera\", \"Solange Parque\", \"Ch\\u00e1cara do Governador\", \"Conjunto Cai\\u00e7ara\", \"Jardim Conquista\", \"Jardim da Luz\", \"Jardim Novo Mundo\", \"Parque das Laranjeiras\", \"Rio Jord\\u00e3o\", \"Residencial Center Ville\", \"Residencial Eldorado\", \"Fai\\u00e7alville\", \"Garavelo\", \"Jardim Atl\\u00e2ntico\", \"Jardim Ana L\\u00facia\", \"Jardim Europa\", \"Jardim Planalto\", \"Jardim Presidente\", \"Moinho dos Ventos\", \"Novo Horizonte\", \"Parque Anhanguera\", \"Parque Oeste Industrial\", \"Rio Formoso\", \"Sudoeste\", \"Uni\\u00e3o\", \"Vila Ad\\u00e9lia\", \"Vila Lucy\", \"Vila Mau\\u00e1\", \"Sul\", \"Sol Nascente\", \"Jardim das Hortensias\", \"Jardim Petr\\u00f3polis\", \"Jardim Vila Boa\", \"Jardim Brasil\", \"Vila Santana\", \"Vila Santa Helena\", \"Jardim Dom Fernando II\", \"Condom\\u00ednio das Esmeraldas\", \"Jardim Colorado\", \"S\\u00e3o Francisco\", \"Vila Aurora Oeste\", \"dos Funcion\\u00e1rios\", \"Residencial Aldeia do Vale\", \"Residencial Granville\", \"Estrela Dalva\", \"Alphaville Flamboyant Residencial Araguaia\", \"Barra da Tijuca\", \"Jardins Madri\"], \"lat\": [-16.600861, -16.60869, -16.5909, -16.780739999999998, -16.64851, -16.6304215, -16.625729999999997, -16.602884200000002, -16.648239999999998, -16.6450566, -16.61499, -16.61644, -16.63569, -16.6360366, -16.62121, -16.6241671, -16.61124, -16.646374599999998, -16.643312599999998, -16.619422, -16.650966399999998, -16.648646900000003, -16.6225009, -16.635617, -16.635115, -16.634111800000003, -16.6514799, -16.6718245, -16.665074800000003, -16.6608633, -16.6806077, -16.6711921, -16.653938, -16.681827, -16.6789292, -16.6482286, -16.649803, -16.664847, -16.6805435, -16.677165900000002, -16.663831400000003, -16.680978, -16.653329199999998, -16.687464499999997, -16.659513, -16.657857500000002, -16.6584443, -16.6737945, -16.6589824, -16.6793688, -16.662322699999997, -16.6794096, -16.6878807, -16.6900458, -16.665688, -16.6572348, -16.665360699999997, -16.6589824, -16.6566745, -16.614562, -16.601029500000003, -16.598482, -16.648216199999997, -16.622488399999998, -16.5852386, -16.601802499999998, -16.613744099999998, -16.6420981, -16.6186122, -16.6025236, -16.6148, -16.6990968, -16.6179074, -16.7153973, -16.715898199999998, -16.7002168, -16.708571799999998, -16.720016, -16.698346400000002, -16.701262699999997, -16.701262699999997, -16.706801000000002, -16.684057, -16.7307921, -16.7148603, -16.7212195, -16.6896427, -16.720568, -16.745127800000002, -16.657885099999998, -16.712855100000002, -16.683641, -16.6826346, -16.6983505, -16.6622405, -16.7294081, -16.7019901, -16.674736499999998, -16.6508788, -16.6881362, -16.6820286, -16.6990968, -16.7274218, -16.6563216, -16.6674616, -16.723852800000003, -16.674725, -16.726388099999998, -16.6421661, -16.753112599999998, -16.707845000000002, -16.737156, -16.7474995, -16.7347665, -16.6999882, -16.716000199999996, -16.7152992, -16.7362492, -16.7297001, -16.718815300000003, -16.7251965, -16.6942655, -16.7221609, -16.6956433, -16.702490599999997, -16.687737300000002, -16.688001999999997, -16.7020172, -16.6904152, -16.6883963, -16.621953599999998, -16.6674978, -16.728432, -16.6931723, -16.659817999999998, -16.6554261, -16.6666475, -16.7845426, -16.6311692, -16.6662604, -16.6781859, -16.6698038, -16.6119769, -16.715240599999998, -16.5923061, -16.7139112, -16.6570783, -16.7483909], \"legendgroup\": \"\", \"lon\": [-49.270699, -49.2084, -49.25763, -49.35004, -49.28524, -49.258864, -49.274570000000004, -49.2586643, -49.30064, -49.2375154, -49.29667, -49.270070000000004, -49.28072, -49.3041779, -49.21609, -49.2834248, -49.243840000000006, -49.2796431, -49.2793201, -49.2862796, -49.2974227, -49.29651320000001, -49.2979216, -49.2455967, -49.29843579999999, -49.283778600000005, -49.295789899999995, -49.2730014, -49.309109299999996, -49.3014804, -49.302127399999996, -49.265183, -49.2826712, -49.305981, -49.295905600000005, -49.262996, -49.268856, -49.318141499999996, -49.3197872, -49.3219865, -49.276546200000006, -49.319783, -49.2469973, -49.321655799999995, -49.258590999999996, -49.270661499999996, -49.2363316, -49.310532200000004, -49.316774, -49.2474232, -49.29870820000001, -49.309084399999996, -49.2948407, -49.3172439, -49.2414278, -49.2947943, -49.2532523, -49.3167527, -49.242146500000004, -49.314232399999995, -49.3617847, -49.3123931, -49.330937899999995, -49.3251179, -49.3393213, -49.3435516, -49.3503829, -49.3366098, -49.3310391, -49.318167200000005, -49.3395213, -49.3574643, -49.3564173, -49.2472304, -49.26559879999999, -49.28302670000001, -49.2932361, -49.2666971, -49.246646399999996, -49.279126, -49.2791268, -49.284724600000004, -49.278760399999996, -49.2886162, -49.2590657, -49.2714516, -49.290243, -49.2482996, -49.2032068, -49.3293944, -49.32378320000001, -49.4290718, -49.3348776, -49.354783399999995, -49.3297119, -49.3891109, -49.372594799999995, -49.33326339999999, -49.31195, -49.41223529999999, -49.394907, -49.3574643, -49.2285179, -49.215822700000004, -49.19467879999999, -49.240281700000004, -49.22488370000001, -49.23424779999999, -49.190514, -49.3513941, -49.330422600000006, -49.326440600000005, -49.3705031, -49.2988112, -49.315907200000005, -49.3088252, -49.3146086, -49.3409385, -49.351225799999995, -49.315527100000004, -49.3039299, -49.334987, -49.3374767, -49.3038433, -49.3184675, -49.32831289999999, -49.3177967, -49.3242911, -49.261595799999995, -49.297760700000005, -49.3382034, -49.3566162, -49.3249748, -49.217938700000005, -49.2970956, -49.2871844, -49.200317299999995, -49.3641348, -49.3386919, -49.3423519, -49.3076919, -49.284002799999996, -49.1974322, -49.331875200000006, -49.329732299999996, -49.2017695, -49.3611713, -49.345426700000004], \"marker\": {\"color\": [660.0, 450.0, 600.0, 940.0, 814.2857142857143, 1112.5714285714287, 1200.0, 846.25, 850.0, 2862.5, 890.6764705882352, 453.3333333333333, 473.3333333333333, 633.3333333333334, 817.3333333333334, 636.3636363636364, 877.1428571428571, 536.0, 618.3333333333334, 765.0, 918.2352941176471, 575.0, 853.0, 824.5652173913044, 500.0, 645.92, 787.5, 1136.6666666666667, 462.5, 742.3529411764706, 787.1428571428571, 887.3076923076923, 685.0, 864.3589743589744, 1220.0, 648.9285714285714, 772.2222222222222, 648.3333333333334, 1075.0, 1122.622950819672, 975.0, 500.0, 926.1904761904761, 702.5, 816.6666666666666, 725.3333333333334, 950.0, 833.1666666666666, 659.2857142857143, 890.2380952380952, 919.6428571428571, 770.0, 550.0, 675.0, 1200.0, 775.0, 813.75, 908.3076923076923, 908.125, 1016.6666666666666, 600.0, 855.0, 802.5, 554.0, 660.0, 650.0, 400.0, 754.2105263157895, 656.7272727272727, 756.25, 649.6666666666666, 750.0, 1000.0, 1385.0, 1408.6, 1831.7216828478965, 1068.6666666666667, 825.0, 1928.1560283687943, 652.5, 2492.3382352941176, 2055.609756097561, 1726.1344537815125, 1054.1709401709402, 922.560975609756, 1920.8333333333333, 1333.3333333333333, 728.6666666666666, 725.0, 680.9090909090909, 1421.4285714285713, 610.0, 927.2727272727273, 800.0, 1060.0, 950.0, 525.0, 1737.5, 822.8571428571429, 575.0, 980.0, 557.1428571428571, 1600.0, 1240.0, 250.0, 758.0769230769231, 678.2978723404256, 1550.0, 650.0, 1215.0, 970.1851851851852, 775.5882352941177, 525.3076923076923, 1488.888888888889, 768.0, 823.5897435897435, 890.0, 794.3703703703703, 782.1071428571429, 796.1111111111111, 1043.75, 868.0597014925373, 625.0, 958.5882352941177, 915.0, 900.0, 727.7777777777778, 945.4545454545455, 1321.5428571428572, 650.9090909090909, 603.75, 770.0, 934.0, 913.0, 800.0, 612.2222222222222, 600.0, 777.5, 693.75, 820.4285714285714, 775.0, 864.0526315789474, 6450.0, 1595.0, 750.0, 4575.0, 621.4285714285714, 2284.375], \"coloraxis\": \"coloraxis\", \"size\": [8, 2, 1, 5, 7, 35, 1, 8, 2, 8, 34, 3, 3, 3, 30, 11, 7, 5, 3, 26, 17, 4, 15, 23, 2, 25, 4, 39, 12, 51, 7, 156, 28, 39, 29, 14, 9, 3, 4, 61, 6, 1, 63, 8, 3, 15, 7, 6, 14, 147, 28, 3, 3, 2, 1, 4, 84, 13, 16, 3, 2, 8, 14, 10, 5, 16, 3, 19, 22, 16, 6, 1, 1, 57, 100, 309, 207, 11, 141, 12, 68, 41, 119, 117, 82, 12, 3, 15, 12, 11, 14, 13, 11, 4, 8, 2, 2, 4, 7, 2, 1, 7, 1, 5, 1, 26, 47, 2, 2, 8, 54, 34, 13, 45, 10, 39, 12, 27, 28, 18, 8, 67, 2, 85, 10, 2, 9, 11, 105, 22, 8, 7, 15, 10, 5, 9, 2, 4, 8, 14, 2, 19, 4, 4, 4, 2, 7, 16], \"sizemode\": \"area\", \"sizeref\": 0.7725}, \"mode\": \"markers\", \"name\": \"\", \"showlegend\": false, \"subplot\": \"mapbox\", \"type\": \"scattermapbox\"}],\n",
       "                        {\"coloraxis\": {\"colorbar\": {\"title\": {\"text\": \"PrecoMedio\"}}, \"colorscale\": [[0.0, \"#0d0887\"], [0.1111111111111111, \"#46039f\"], [0.2222222222222222, \"#7201a8\"], [0.3333333333333333, \"#9c179e\"], [0.4444444444444444, \"#bd3786\"], [0.5555555555555556, \"#d8576b\"], [0.6666666666666666, \"#ed7953\"], [0.7777777777777778, \"#fb9f3a\"], [0.8888888888888888, \"#fdca26\"], [1.0, \"#f0f921\"]]}, \"height\": 600, \"legend\": {\"itemsizing\": \"constant\", \"tracegroupgap\": 0}, \"mapbox\": {\"center\": {\"lat\": -16.672045891216214, \"lon\": -49.29758444527027}, \"domain\": {\"x\": [0.0, 0.98], \"y\": [0.0, 1.0]}, \"style\": \"open-street-map\", \"zoom\": 11}, \"margin\": {\"b\": 0, \"l\": 0, \"r\": 0, \"t\": 0}, \"template\": {\"data\": {\"bar\": [{\"error_x\": {\"color\": \"#2a3f5f\"}, \"error_y\": {\"color\": \"#2a3f5f\"}, \"marker\": {\"line\": {\"color\": \"#E5ECF6\", \"width\": 0.5}}, \"type\": \"bar\"}], \"barpolar\": [{\"marker\": {\"line\": {\"color\": \"#E5ECF6\", \"width\": 0.5}}, \"type\": \"barpolar\"}], \"carpet\": [{\"aaxis\": {\"endlinecolor\": \"#2a3f5f\", \"gridcolor\": \"white\", \"linecolor\": \"white\", \"minorgridcolor\": \"white\", \"startlinecolor\": \"#2a3f5f\"}, \"baxis\": {\"endlinecolor\": \"#2a3f5f\", \"gridcolor\": \"white\", \"linecolor\": \"white\", \"minorgridcolor\": \"white\", \"startlinecolor\": \"#2a3f5f\"}, \"type\": \"carpet\"}], \"choropleth\": [{\"colorbar\": {\"outlinewidth\": 0, \"ticks\": \"\"}, \"type\": \"choropleth\"}], \"contour\": [{\"colorbar\": {\"outlinewidth\": 0, \"ticks\": \"\"}, \"colorscale\": [[0.0, \"#0d0887\"], [0.1111111111111111, \"#46039f\"], [0.2222222222222222, \"#7201a8\"], [0.3333333333333333, \"#9c179e\"], [0.4444444444444444, \"#bd3786\"], [0.5555555555555556, \"#d8576b\"], [0.6666666666666666, \"#ed7953\"], [0.7777777777777778, \"#fb9f3a\"], [0.8888888888888888, \"#fdca26\"], [1.0, \"#f0f921\"]], \"type\": \"contour\"}], \"contourcarpet\": [{\"colorbar\": {\"outlinewidth\": 0, \"ticks\": \"\"}, \"type\": \"contourcarpet\"}], \"heatmap\": [{\"colorbar\": {\"outlinewidth\": 0, \"ticks\": \"\"}, \"colorscale\": [[0.0, \"#0d0887\"], [0.1111111111111111, \"#46039f\"], [0.2222222222222222, \"#7201a8\"], [0.3333333333333333, \"#9c179e\"], [0.4444444444444444, \"#bd3786\"], [0.5555555555555556, \"#d8576b\"], [0.6666666666666666, \"#ed7953\"], [0.7777777777777778, \"#fb9f3a\"], [0.8888888888888888, \"#fdca26\"], [1.0, \"#f0f921\"]], \"type\": \"heatmap\"}], \"heatmapgl\": [{\"colorbar\": {\"outlinewidth\": 0, \"ticks\": \"\"}, \"colorscale\": [[0.0, \"#0d0887\"], [0.1111111111111111, \"#46039f\"], [0.2222222222222222, \"#7201a8\"], [0.3333333333333333, \"#9c179e\"], [0.4444444444444444, \"#bd3786\"], [0.5555555555555556, \"#d8576b\"], [0.6666666666666666, \"#ed7953\"], [0.7777777777777778, \"#fb9f3a\"], [0.8888888888888888, \"#fdca26\"], [1.0, \"#f0f921\"]], \"type\": \"heatmapgl\"}], \"histogram\": [{\"marker\": {\"colorbar\": {\"outlinewidth\": 0, \"ticks\": \"\"}}, \"type\": \"histogram\"}], \"histogram2d\": [{\"colorbar\": {\"outlinewidth\": 0, \"ticks\": \"\"}, \"colorscale\": [[0.0, \"#0d0887\"], [0.1111111111111111, \"#46039f\"], [0.2222222222222222, \"#7201a8\"], [0.3333333333333333, \"#9c179e\"], [0.4444444444444444, \"#bd3786\"], [0.5555555555555556, \"#d8576b\"], [0.6666666666666666, \"#ed7953\"], [0.7777777777777778, \"#fb9f3a\"], [0.8888888888888888, \"#fdca26\"], [1.0, \"#f0f921\"]], \"type\": \"histogram2d\"}], \"histogram2dcontour\": [{\"colorbar\": {\"outlinewidth\": 0, \"ticks\": \"\"}, \"colorscale\": [[0.0, \"#0d0887\"], [0.1111111111111111, \"#46039f\"], [0.2222222222222222, \"#7201a8\"], [0.3333333333333333, \"#9c179e\"], [0.4444444444444444, \"#bd3786\"], [0.5555555555555556, \"#d8576b\"], [0.6666666666666666, \"#ed7953\"], [0.7777777777777778, \"#fb9f3a\"], [0.8888888888888888, \"#fdca26\"], [1.0, \"#f0f921\"]], \"type\": \"histogram2dcontour\"}], \"mesh3d\": [{\"colorbar\": {\"outlinewidth\": 0, \"ticks\": \"\"}, \"type\": \"mesh3d\"}], \"parcoords\": [{\"line\": {\"colorbar\": {\"outlinewidth\": 0, \"ticks\": \"\"}}, \"type\": \"parcoords\"}], \"scatter\": [{\"marker\": {\"colorbar\": {\"outlinewidth\": 0, \"ticks\": \"\"}}, \"type\": \"scatter\"}], \"scatter3d\": [{\"line\": {\"colorbar\": {\"outlinewidth\": 0, \"ticks\": \"\"}}, \"marker\": {\"colorbar\": {\"outlinewidth\": 0, \"ticks\": \"\"}}, \"type\": \"scatter3d\"}], \"scattercarpet\": [{\"marker\": {\"colorbar\": {\"outlinewidth\": 0, \"ticks\": \"\"}}, \"type\": \"scattercarpet\"}], \"scattergeo\": [{\"marker\": {\"colorbar\": {\"outlinewidth\": 0, \"ticks\": \"\"}}, \"type\": \"scattergeo\"}], \"scattergl\": [{\"marker\": {\"colorbar\": {\"outlinewidth\": 0, \"ticks\": \"\"}}, \"type\": \"scattergl\"}], \"scattermapbox\": [{\"marker\": {\"colorbar\": {\"outlinewidth\": 0, \"ticks\": \"\"}}, \"type\": \"scattermapbox\"}], \"scatterpolar\": [{\"marker\": {\"colorbar\": {\"outlinewidth\": 0, \"ticks\": \"\"}}, \"type\": \"scatterpolar\"}], \"scatterpolargl\": [{\"marker\": {\"colorbar\": {\"outlinewidth\": 0, \"ticks\": \"\"}}, \"type\": \"scatterpolargl\"}], \"scatterternary\": [{\"marker\": {\"colorbar\": {\"outlinewidth\": 0, \"ticks\": \"\"}}, \"type\": \"scatterternary\"}], \"surface\": [{\"colorbar\": {\"outlinewidth\": 0, \"ticks\": \"\"}, \"colorscale\": [[0.0, \"#0d0887\"], [0.1111111111111111, \"#46039f\"], [0.2222222222222222, \"#7201a8\"], [0.3333333333333333, \"#9c179e\"], [0.4444444444444444, \"#bd3786\"], [0.5555555555555556, \"#d8576b\"], [0.6666666666666666, \"#ed7953\"], [0.7777777777777778, \"#fb9f3a\"], [0.8888888888888888, \"#fdca26\"], [1.0, \"#f0f921\"]], \"type\": \"surface\"}], \"table\": [{\"cells\": {\"fill\": {\"color\": \"#EBF0F8\"}, \"line\": {\"color\": \"white\"}}, \"header\": {\"fill\": {\"color\": \"#C8D4E3\"}, \"line\": {\"color\": \"white\"}}, \"type\": \"table\"}]}, \"layout\": {\"annotationdefaults\": {\"arrowcolor\": \"#2a3f5f\", \"arrowhead\": 0, \"arrowwidth\": 1}, \"colorscale\": {\"diverging\": [[0, \"#8e0152\"], [0.1, \"#c51b7d\"], [0.2, \"#de77ae\"], [0.3, \"#f1b6da\"], [0.4, \"#fde0ef\"], [0.5, \"#f7f7f7\"], [0.6, \"#e6f5d0\"], [0.7, \"#b8e186\"], [0.8, \"#7fbc41\"], [0.9, \"#4d9221\"], [1, \"#276419\"]], \"sequential\": [[0.0, \"#0d0887\"], [0.1111111111111111, \"#46039f\"], [0.2222222222222222, \"#7201a8\"], [0.3333333333333333, \"#9c179e\"], [0.4444444444444444, \"#bd3786\"], [0.5555555555555556, \"#d8576b\"], [0.6666666666666666, \"#ed7953\"], [0.7777777777777778, \"#fb9f3a\"], [0.8888888888888888, \"#fdca26\"], [1.0, \"#f0f921\"]], \"sequentialminus\": [[0.0, \"#0d0887\"], [0.1111111111111111, \"#46039f\"], [0.2222222222222222, \"#7201a8\"], [0.3333333333333333, \"#9c179e\"], [0.4444444444444444, \"#bd3786\"], [0.5555555555555556, \"#d8576b\"], [0.6666666666666666, \"#ed7953\"], [0.7777777777777778, \"#fb9f3a\"], [0.8888888888888888, \"#fdca26\"], [1.0, \"#f0f921\"]]}, \"colorway\": [\"#636efa\", \"#EF553B\", \"#00cc96\", \"#ab63fa\", \"#FFA15A\", \"#19d3f3\", \"#FF6692\", \"#B6E880\", \"#FF97FF\", \"#FECB52\"], \"font\": {\"color\": \"#2a3f5f\"}, \"geo\": {\"bgcolor\": \"white\", \"lakecolor\": \"white\", \"landcolor\": \"#E5ECF6\", \"showlakes\": true, \"showland\": true, \"subunitcolor\": \"white\"}, \"hoverlabel\": {\"align\": \"left\"}, \"hovermode\": \"closest\", \"mapbox\": {\"style\": \"light\"}, \"paper_bgcolor\": \"white\", \"plot_bgcolor\": \"#E5ECF6\", \"polar\": {\"angularaxis\": {\"gridcolor\": \"white\", \"linecolor\": \"white\", \"ticks\": \"\"}, \"bgcolor\": \"#E5ECF6\", \"radialaxis\": {\"gridcolor\": \"white\", \"linecolor\": \"white\", \"ticks\": \"\"}}, \"scene\": {\"xaxis\": {\"backgroundcolor\": \"#E5ECF6\", \"gridcolor\": \"white\", \"gridwidth\": 2, \"linecolor\": \"white\", \"showbackground\": true, \"ticks\": \"\", \"zerolinecolor\": \"white\"}, \"yaxis\": {\"backgroundcolor\": \"#E5ECF6\", \"gridcolor\": \"white\", \"gridwidth\": 2, \"linecolor\": \"white\", \"showbackground\": true, \"ticks\": \"\", \"zerolinecolor\": \"white\"}, \"zaxis\": {\"backgroundcolor\": \"#E5ECF6\", \"gridcolor\": \"white\", \"gridwidth\": 2, \"linecolor\": \"white\", \"showbackground\": true, \"ticks\": \"\", \"zerolinecolor\": \"white\"}}, \"shapedefaults\": {\"line\": {\"color\": \"#2a3f5f\"}}, \"ternary\": {\"aaxis\": {\"gridcolor\": \"white\", \"linecolor\": \"white\", \"ticks\": \"\"}, \"baxis\": {\"gridcolor\": \"white\", \"linecolor\": \"white\", \"ticks\": \"\"}, \"bgcolor\": \"#E5ECF6\", \"caxis\": {\"gridcolor\": \"white\", \"linecolor\": \"white\", \"ticks\": \"\"}}, \"title\": {\"x\": 0.05}, \"xaxis\": {\"automargin\": true, \"gridcolor\": \"white\", \"linecolor\": \"white\", \"ticks\": \"\", \"zerolinecolor\": \"white\", \"zerolinewidth\": 2}, \"yaxis\": {\"automargin\": true, \"gridcolor\": \"white\", \"linecolor\": \"white\", \"ticks\": \"\", \"zerolinecolor\": \"white\", \"zerolinewidth\": 2}}}},\n",
       "                        {\"responsive\": true}\n",
       "                    ).then(function(){\n",
       "                            \n",
       "var gd = document.getElementById('89dd5517-3c2d-4de2-9b2f-3d65145acefe');\n",
       "var x = new MutationObserver(function (mutations, observer) {{\n",
       "        var display = window.getComputedStyle(gd).display;\n",
       "        if (!display || display === 'none') {{\n",
       "            console.log([gd, 'removed!']);\n",
       "            Plotly.purge(gd);\n",
       "            observer.disconnect();\n",
       "        }}\n",
       "}});\n",
       "\n",
       "// Listen for the removal of the full notebook cells\n",
       "var notebookContainer = gd.closest('#notebook-container');\n",
       "if (notebookContainer) {{\n",
       "    x.observe(notebookContainer, {childList: true});\n",
       "}}\n",
       "\n",
       "// Listen for the clearing of the current output cell\n",
       "var outputEl = gd.closest('.output');\n",
       "if (outputEl) {{\n",
       "    x.observe(outputEl, {childList: true});\n",
       "}}\n",
       "\n",
       "                        })\n",
       "                };\n",
       "                });\n",
       "            </script>\n",
       "        </div>"
      ]
     },
     "metadata": {},
     "output_type": "display_data"
    }
   ],
   "source": [
    "import pandas as pd\n",
    "import plotly.express as px\n",
    "import numpy as np\n",
    "\n",
    "goiania_neighborhood = pd.read_csv(\"/home/user/Documents/OLXScraper/olxprices/files/bairros_goiania.csv\")\n",
    "neighborhood_list = { neighborhood : [0, 0, latitude, longitude] for neighborhood, latitude, longitude \n",
    "                     in zip(goiania_neighborhood['Bairro'], goiania_neighborhood['Latitude'], goiania_neighborhood['Longitude'])}\n",
    "neighborhood_map = []\n",
    "\n",
    "for line in vetor_processed:\n",
    "    neighborhood = vetor_processed[line][1][1] if len(vetor_processed[line][1]) > 1 and vetor_processed[line][1][0] == \"Goiânia\" else None\n",
    "    if neighborhood is not None:\n",
    "        n = best_neighborhood(neighborhood)\n",
    "\n",
    "        # Match com bairro e consta o valor do imovel e eh menor que 8000 reais:\n",
    "        if n != None and 8000 > int(vetor_processed[line][3].replace('.', '')) > 100:\n",
    "            neighborhood_list[n][0] +=1\n",
    "            neighborhood_list[n][1] += int(vetor_processed[line][3].replace('.', ''))\n",
    "\n",
    "            \n",
    "for index in neighborhood_list:\n",
    "    if neighborhood_list[index][0] != 0:\n",
    "        neighborhood_map.append([index, \n",
    "                                 neighborhood_list[index][2],\n",
    "                                 neighborhood_list[index][3],\n",
    "                                 neighborhood_list[index][1]/neighborhood_list[index][0],\n",
    "                                 neighborhood_list[index][0]])    \n",
    "\n",
    "myData = np.array( neighborhood_map)\n",
    "         \n",
    "df=pd.DataFrame(data=myData,index=[i for i in range(len(myData))],columns=['Bairro','Latitude','Longitude','PrecoMedio','Size'])\n",
    "\n",
    "df['Latitude'] = df['Latitude'].astype('float')\n",
    "df['Longitude'] = df['Longitude'].astype('float')\n",
    "df['PrecoMedio'] = df['PrecoMedio'].astype('float')\n",
    "df['Size'] = df['Size'].astype('int')\n",
    "\n",
    "fig = px.scatter_mapbox(df, lat=\"Latitude\", lon=\"Longitude\", hover_name=\"Bairro\", color=\"PrecoMedio\",\n",
    "                        size=\"Size\", color_discrete_sequence= px.colors.sequential.Plasma[-2::-1], zoom=11, height=600)\n",
    "\n",
    "fig.update_layout(mapbox_style=\"open-street-map\")\n",
    "fig.update_layout(margin={\"r\":0,\"t\":0,\"l\":0,\"b\":0})\n",
    "fig.show()"
   ]
  },
  {
   "cell_type": "markdown",
   "metadata": {},
   "source": [
    "### Quantidade de imóveis por faixa de valor\n",
    "\n",
    "#### Formato do vetor:\n",
    "#### {'ID' : [ titulo, [cidade, bairro], descicao, preco, data_publicacao, tempo_no_ar] }"
   ]
  },
  {
   "cell_type": "code",
   "execution_count": 163,
   "metadata": {},
   "outputs": [
    {
     "data": {
      "application/vnd.plotly.v1+json": {
       "config": {
        "plotlyServerURL": "https://plot.ly"
       },
       "data": [
        {
         "type": "bar",
         "x": [
          0,
          100,
          200,
          300,
          400,
          500,
          600,
          700,
          800,
          900,
          1000,
          1100,
          1200,
          1300,
          1400,
          1500,
          1600,
          1700,
          1800,
          1900,
          2000,
          2100,
          2200,
          2300,
          2400,
          2500
         ],
         "y": [
          530,
          19,
          68,
          289,
          512,
          706,
          838,
          804,
          728,
          539,
          310,
          272,
          258,
          172,
          128,
          152,
          97,
          59,
          78,
          46,
          70,
          29,
          42,
          21,
          10,
          448
         ]
        }
       ],
       "layout": {
        "template": {
         "data": {
          "bar": [
           {
            "error_x": {
             "color": "#2a3f5f"
            },
            "error_y": {
             "color": "#2a3f5f"
            },
            "marker": {
             "line": {
              "color": "#E5ECF6",
              "width": 0.5
             }
            },
            "type": "bar"
           }
          ],
          "barpolar": [
           {
            "marker": {
             "line": {
              "color": "#E5ECF6",
              "width": 0.5
             }
            },
            "type": "barpolar"
           }
          ],
          "carpet": [
           {
            "aaxis": {
             "endlinecolor": "#2a3f5f",
             "gridcolor": "white",
             "linecolor": "white",
             "minorgridcolor": "white",
             "startlinecolor": "#2a3f5f"
            },
            "baxis": {
             "endlinecolor": "#2a3f5f",
             "gridcolor": "white",
             "linecolor": "white",
             "minorgridcolor": "white",
             "startlinecolor": "#2a3f5f"
            },
            "type": "carpet"
           }
          ],
          "choropleth": [
           {
            "colorbar": {
             "outlinewidth": 0,
             "ticks": ""
            },
            "type": "choropleth"
           }
          ],
          "contour": [
           {
            "colorbar": {
             "outlinewidth": 0,
             "ticks": ""
            },
            "colorscale": [
             [
              0,
              "#0d0887"
             ],
             [
              0.1111111111111111,
              "#46039f"
             ],
             [
              0.2222222222222222,
              "#7201a8"
             ],
             [
              0.3333333333333333,
              "#9c179e"
             ],
             [
              0.4444444444444444,
              "#bd3786"
             ],
             [
              0.5555555555555556,
              "#d8576b"
             ],
             [
              0.6666666666666666,
              "#ed7953"
             ],
             [
              0.7777777777777778,
              "#fb9f3a"
             ],
             [
              0.8888888888888888,
              "#fdca26"
             ],
             [
              1,
              "#f0f921"
             ]
            ],
            "type": "contour"
           }
          ],
          "contourcarpet": [
           {
            "colorbar": {
             "outlinewidth": 0,
             "ticks": ""
            },
            "type": "contourcarpet"
           }
          ],
          "heatmap": [
           {
            "colorbar": {
             "outlinewidth": 0,
             "ticks": ""
            },
            "colorscale": [
             [
              0,
              "#0d0887"
             ],
             [
              0.1111111111111111,
              "#46039f"
             ],
             [
              0.2222222222222222,
              "#7201a8"
             ],
             [
              0.3333333333333333,
              "#9c179e"
             ],
             [
              0.4444444444444444,
              "#bd3786"
             ],
             [
              0.5555555555555556,
              "#d8576b"
             ],
             [
              0.6666666666666666,
              "#ed7953"
             ],
             [
              0.7777777777777778,
              "#fb9f3a"
             ],
             [
              0.8888888888888888,
              "#fdca26"
             ],
             [
              1,
              "#f0f921"
             ]
            ],
            "type": "heatmap"
           }
          ],
          "heatmapgl": [
           {
            "colorbar": {
             "outlinewidth": 0,
             "ticks": ""
            },
            "colorscale": [
             [
              0,
              "#0d0887"
             ],
             [
              0.1111111111111111,
              "#46039f"
             ],
             [
              0.2222222222222222,
              "#7201a8"
             ],
             [
              0.3333333333333333,
              "#9c179e"
             ],
             [
              0.4444444444444444,
              "#bd3786"
             ],
             [
              0.5555555555555556,
              "#d8576b"
             ],
             [
              0.6666666666666666,
              "#ed7953"
             ],
             [
              0.7777777777777778,
              "#fb9f3a"
             ],
             [
              0.8888888888888888,
              "#fdca26"
             ],
             [
              1,
              "#f0f921"
             ]
            ],
            "type": "heatmapgl"
           }
          ],
          "histogram": [
           {
            "marker": {
             "colorbar": {
              "outlinewidth": 0,
              "ticks": ""
             }
            },
            "type": "histogram"
           }
          ],
          "histogram2d": [
           {
            "colorbar": {
             "outlinewidth": 0,
             "ticks": ""
            },
            "colorscale": [
             [
              0,
              "#0d0887"
             ],
             [
              0.1111111111111111,
              "#46039f"
             ],
             [
              0.2222222222222222,
              "#7201a8"
             ],
             [
              0.3333333333333333,
              "#9c179e"
             ],
             [
              0.4444444444444444,
              "#bd3786"
             ],
             [
              0.5555555555555556,
              "#d8576b"
             ],
             [
              0.6666666666666666,
              "#ed7953"
             ],
             [
              0.7777777777777778,
              "#fb9f3a"
             ],
             [
              0.8888888888888888,
              "#fdca26"
             ],
             [
              1,
              "#f0f921"
             ]
            ],
            "type": "histogram2d"
           }
          ],
          "histogram2dcontour": [
           {
            "colorbar": {
             "outlinewidth": 0,
             "ticks": ""
            },
            "colorscale": [
             [
              0,
              "#0d0887"
             ],
             [
              0.1111111111111111,
              "#46039f"
             ],
             [
              0.2222222222222222,
              "#7201a8"
             ],
             [
              0.3333333333333333,
              "#9c179e"
             ],
             [
              0.4444444444444444,
              "#bd3786"
             ],
             [
              0.5555555555555556,
              "#d8576b"
             ],
             [
              0.6666666666666666,
              "#ed7953"
             ],
             [
              0.7777777777777778,
              "#fb9f3a"
             ],
             [
              0.8888888888888888,
              "#fdca26"
             ],
             [
              1,
              "#f0f921"
             ]
            ],
            "type": "histogram2dcontour"
           }
          ],
          "mesh3d": [
           {
            "colorbar": {
             "outlinewidth": 0,
             "ticks": ""
            },
            "type": "mesh3d"
           }
          ],
          "parcoords": [
           {
            "line": {
             "colorbar": {
              "outlinewidth": 0,
              "ticks": ""
             }
            },
            "type": "parcoords"
           }
          ],
          "scatter": [
           {
            "marker": {
             "colorbar": {
              "outlinewidth": 0,
              "ticks": ""
             }
            },
            "type": "scatter"
           }
          ],
          "scatter3d": [
           {
            "line": {
             "colorbar": {
              "outlinewidth": 0,
              "ticks": ""
             }
            },
            "marker": {
             "colorbar": {
              "outlinewidth": 0,
              "ticks": ""
             }
            },
            "type": "scatter3d"
           }
          ],
          "scattercarpet": [
           {
            "marker": {
             "colorbar": {
              "outlinewidth": 0,
              "ticks": ""
             }
            },
            "type": "scattercarpet"
           }
          ],
          "scattergeo": [
           {
            "marker": {
             "colorbar": {
              "outlinewidth": 0,
              "ticks": ""
             }
            },
            "type": "scattergeo"
           }
          ],
          "scattergl": [
           {
            "marker": {
             "colorbar": {
              "outlinewidth": 0,
              "ticks": ""
             }
            },
            "type": "scattergl"
           }
          ],
          "scattermapbox": [
           {
            "marker": {
             "colorbar": {
              "outlinewidth": 0,
              "ticks": ""
             }
            },
            "type": "scattermapbox"
           }
          ],
          "scatterpolar": [
           {
            "marker": {
             "colorbar": {
              "outlinewidth": 0,
              "ticks": ""
             }
            },
            "type": "scatterpolar"
           }
          ],
          "scatterpolargl": [
           {
            "marker": {
             "colorbar": {
              "outlinewidth": 0,
              "ticks": ""
             }
            },
            "type": "scatterpolargl"
           }
          ],
          "scatterternary": [
           {
            "marker": {
             "colorbar": {
              "outlinewidth": 0,
              "ticks": ""
             }
            },
            "type": "scatterternary"
           }
          ],
          "surface": [
           {
            "colorbar": {
             "outlinewidth": 0,
             "ticks": ""
            },
            "colorscale": [
             [
              0,
              "#0d0887"
             ],
             [
              0.1111111111111111,
              "#46039f"
             ],
             [
              0.2222222222222222,
              "#7201a8"
             ],
             [
              0.3333333333333333,
              "#9c179e"
             ],
             [
              0.4444444444444444,
              "#bd3786"
             ],
             [
              0.5555555555555556,
              "#d8576b"
             ],
             [
              0.6666666666666666,
              "#ed7953"
             ],
             [
              0.7777777777777778,
              "#fb9f3a"
             ],
             [
              0.8888888888888888,
              "#fdca26"
             ],
             [
              1,
              "#f0f921"
             ]
            ],
            "type": "surface"
           }
          ],
          "table": [
           {
            "cells": {
             "fill": {
              "color": "#EBF0F8"
             },
             "line": {
              "color": "white"
             }
            },
            "header": {
             "fill": {
              "color": "#C8D4E3"
             },
             "line": {
              "color": "white"
             }
            },
            "type": "table"
           }
          ]
         },
         "layout": {
          "annotationdefaults": {
           "arrowcolor": "#2a3f5f",
           "arrowhead": 0,
           "arrowwidth": 1
          },
          "colorscale": {
           "diverging": [
            [
             0,
             "#8e0152"
            ],
            [
             0.1,
             "#c51b7d"
            ],
            [
             0.2,
             "#de77ae"
            ],
            [
             0.3,
             "#f1b6da"
            ],
            [
             0.4,
             "#fde0ef"
            ],
            [
             0.5,
             "#f7f7f7"
            ],
            [
             0.6,
             "#e6f5d0"
            ],
            [
             0.7,
             "#b8e186"
            ],
            [
             0.8,
             "#7fbc41"
            ],
            [
             0.9,
             "#4d9221"
            ],
            [
             1,
             "#276419"
            ]
           ],
           "sequential": [
            [
             0,
             "#0d0887"
            ],
            [
             0.1111111111111111,
             "#46039f"
            ],
            [
             0.2222222222222222,
             "#7201a8"
            ],
            [
             0.3333333333333333,
             "#9c179e"
            ],
            [
             0.4444444444444444,
             "#bd3786"
            ],
            [
             0.5555555555555556,
             "#d8576b"
            ],
            [
             0.6666666666666666,
             "#ed7953"
            ],
            [
             0.7777777777777778,
             "#fb9f3a"
            ],
            [
             0.8888888888888888,
             "#fdca26"
            ],
            [
             1,
             "#f0f921"
            ]
           ],
           "sequentialminus": [
            [
             0,
             "#0d0887"
            ],
            [
             0.1111111111111111,
             "#46039f"
            ],
            [
             0.2222222222222222,
             "#7201a8"
            ],
            [
             0.3333333333333333,
             "#9c179e"
            ],
            [
             0.4444444444444444,
             "#bd3786"
            ],
            [
             0.5555555555555556,
             "#d8576b"
            ],
            [
             0.6666666666666666,
             "#ed7953"
            ],
            [
             0.7777777777777778,
             "#fb9f3a"
            ],
            [
             0.8888888888888888,
             "#fdca26"
            ],
            [
             1,
             "#f0f921"
            ]
           ]
          },
          "colorway": [
           "#636efa",
           "#EF553B",
           "#00cc96",
           "#ab63fa",
           "#FFA15A",
           "#19d3f3",
           "#FF6692",
           "#B6E880",
           "#FF97FF",
           "#FECB52"
          ],
          "font": {
           "color": "#2a3f5f"
          },
          "geo": {
           "bgcolor": "white",
           "lakecolor": "white",
           "landcolor": "#E5ECF6",
           "showlakes": true,
           "showland": true,
           "subunitcolor": "white"
          },
          "hoverlabel": {
           "align": "left"
          },
          "hovermode": "closest",
          "mapbox": {
           "style": "light"
          },
          "paper_bgcolor": "white",
          "plot_bgcolor": "#E5ECF6",
          "polar": {
           "angularaxis": {
            "gridcolor": "white",
            "linecolor": "white",
            "ticks": ""
           },
           "bgcolor": "#E5ECF6",
           "radialaxis": {
            "gridcolor": "white",
            "linecolor": "white",
            "ticks": ""
           }
          },
          "scene": {
           "xaxis": {
            "backgroundcolor": "#E5ECF6",
            "gridcolor": "white",
            "gridwidth": 2,
            "linecolor": "white",
            "showbackground": true,
            "ticks": "",
            "zerolinecolor": "white"
           },
           "yaxis": {
            "backgroundcolor": "#E5ECF6",
            "gridcolor": "white",
            "gridwidth": 2,
            "linecolor": "white",
            "showbackground": true,
            "ticks": "",
            "zerolinecolor": "white"
           },
           "zaxis": {
            "backgroundcolor": "#E5ECF6",
            "gridcolor": "white",
            "gridwidth": 2,
            "linecolor": "white",
            "showbackground": true,
            "ticks": "",
            "zerolinecolor": "white"
           }
          },
          "shapedefaults": {
           "line": {
            "color": "#2a3f5f"
           }
          },
          "ternary": {
           "aaxis": {
            "gridcolor": "white",
            "linecolor": "white",
            "ticks": ""
           },
           "baxis": {
            "gridcolor": "white",
            "linecolor": "white",
            "ticks": ""
           },
           "bgcolor": "#E5ECF6",
           "caxis": {
            "gridcolor": "white",
            "linecolor": "white",
            "ticks": ""
           }
          },
          "title": {
           "x": 0.05
          },
          "xaxis": {
           "automargin": true,
           "gridcolor": "white",
           "linecolor": "white",
           "ticks": "",
           "zerolinecolor": "white",
           "zerolinewidth": 2
          },
          "yaxis": {
           "automargin": true,
           "gridcolor": "white",
           "linecolor": "white",
           "ticks": "",
           "zerolinecolor": "white",
           "zerolinewidth": 2
          }
         }
        }
       }
      },
      "text/html": [
       "<div>\n",
       "        \n",
       "        \n",
       "            <div id=\"7bd0235f-ff4d-491b-99d7-5dea3b9288cd\" class=\"plotly-graph-div\" style=\"height:525px; width:100%;\"></div>\n",
       "            <script type=\"text/javascript\">\n",
       "                require([\"plotly\"], function(Plotly) {\n",
       "                    window.PLOTLYENV=window.PLOTLYENV || {};\n",
       "                    \n",
       "                if (document.getElementById(\"7bd0235f-ff4d-491b-99d7-5dea3b9288cd\")) {\n",
       "                    Plotly.newPlot(\n",
       "                        '7bd0235f-ff4d-491b-99d7-5dea3b9288cd',\n",
       "                        [{\"type\": \"bar\", \"x\": [0, 100, 200, 300, 400, 500, 600, 700, 800, 900, 1000, 1100, 1200, 1300, 1400, 1500, 1600, 1700, 1800, 1900, 2000, 2100, 2200, 2300, 2400, 2500], \"y\": [530, 19, 68, 289, 512, 706, 838, 804, 728, 539, 310, 272, 258, 172, 128, 152, 97, 59, 78, 46, 70, 29, 42, 21, 10, 448]}],\n",
       "                        {\"template\": {\"data\": {\"bar\": [{\"error_x\": {\"color\": \"#2a3f5f\"}, \"error_y\": {\"color\": \"#2a3f5f\"}, \"marker\": {\"line\": {\"color\": \"#E5ECF6\", \"width\": 0.5}}, \"type\": \"bar\"}], \"barpolar\": [{\"marker\": {\"line\": {\"color\": \"#E5ECF6\", \"width\": 0.5}}, \"type\": \"barpolar\"}], \"carpet\": [{\"aaxis\": {\"endlinecolor\": \"#2a3f5f\", \"gridcolor\": \"white\", \"linecolor\": \"white\", \"minorgridcolor\": \"white\", \"startlinecolor\": \"#2a3f5f\"}, \"baxis\": {\"endlinecolor\": \"#2a3f5f\", \"gridcolor\": \"white\", \"linecolor\": \"white\", \"minorgridcolor\": \"white\", \"startlinecolor\": \"#2a3f5f\"}, \"type\": \"carpet\"}], \"choropleth\": [{\"colorbar\": {\"outlinewidth\": 0, \"ticks\": \"\"}, \"type\": \"choropleth\"}], \"contour\": [{\"colorbar\": {\"outlinewidth\": 0, \"ticks\": \"\"}, \"colorscale\": [[0.0, \"#0d0887\"], [0.1111111111111111, \"#46039f\"], [0.2222222222222222, \"#7201a8\"], [0.3333333333333333, \"#9c179e\"], [0.4444444444444444, \"#bd3786\"], [0.5555555555555556, \"#d8576b\"], [0.6666666666666666, \"#ed7953\"], [0.7777777777777778, \"#fb9f3a\"], [0.8888888888888888, \"#fdca26\"], [1.0, \"#f0f921\"]], \"type\": \"contour\"}], \"contourcarpet\": [{\"colorbar\": {\"outlinewidth\": 0, \"ticks\": \"\"}, \"type\": \"contourcarpet\"}], \"heatmap\": [{\"colorbar\": {\"outlinewidth\": 0, \"ticks\": \"\"}, \"colorscale\": [[0.0, \"#0d0887\"], [0.1111111111111111, \"#46039f\"], [0.2222222222222222, \"#7201a8\"], [0.3333333333333333, \"#9c179e\"], [0.4444444444444444, \"#bd3786\"], [0.5555555555555556, \"#d8576b\"], [0.6666666666666666, \"#ed7953\"], [0.7777777777777778, \"#fb9f3a\"], [0.8888888888888888, \"#fdca26\"], [1.0, \"#f0f921\"]], \"type\": \"heatmap\"}], \"heatmapgl\": [{\"colorbar\": {\"outlinewidth\": 0, \"ticks\": \"\"}, \"colorscale\": [[0.0, \"#0d0887\"], [0.1111111111111111, \"#46039f\"], [0.2222222222222222, \"#7201a8\"], [0.3333333333333333, \"#9c179e\"], [0.4444444444444444, \"#bd3786\"], [0.5555555555555556, \"#d8576b\"], [0.6666666666666666, \"#ed7953\"], [0.7777777777777778, \"#fb9f3a\"], [0.8888888888888888, \"#fdca26\"], [1.0, \"#f0f921\"]], \"type\": \"heatmapgl\"}], \"histogram\": [{\"marker\": {\"colorbar\": {\"outlinewidth\": 0, \"ticks\": \"\"}}, \"type\": \"histogram\"}], \"histogram2d\": [{\"colorbar\": {\"outlinewidth\": 0, \"ticks\": \"\"}, \"colorscale\": [[0.0, \"#0d0887\"], [0.1111111111111111, \"#46039f\"], [0.2222222222222222, \"#7201a8\"], [0.3333333333333333, \"#9c179e\"], [0.4444444444444444, \"#bd3786\"], [0.5555555555555556, \"#d8576b\"], [0.6666666666666666, \"#ed7953\"], [0.7777777777777778, \"#fb9f3a\"], [0.8888888888888888, \"#fdca26\"], [1.0, \"#f0f921\"]], \"type\": \"histogram2d\"}], \"histogram2dcontour\": [{\"colorbar\": {\"outlinewidth\": 0, \"ticks\": \"\"}, \"colorscale\": [[0.0, \"#0d0887\"], [0.1111111111111111, \"#46039f\"], [0.2222222222222222, \"#7201a8\"], [0.3333333333333333, \"#9c179e\"], [0.4444444444444444, \"#bd3786\"], [0.5555555555555556, \"#d8576b\"], [0.6666666666666666, \"#ed7953\"], [0.7777777777777778, \"#fb9f3a\"], [0.8888888888888888, \"#fdca26\"], [1.0, \"#f0f921\"]], \"type\": \"histogram2dcontour\"}], \"mesh3d\": [{\"colorbar\": {\"outlinewidth\": 0, \"ticks\": \"\"}, \"type\": \"mesh3d\"}], \"parcoords\": [{\"line\": {\"colorbar\": {\"outlinewidth\": 0, \"ticks\": \"\"}}, \"type\": \"parcoords\"}], \"scatter\": [{\"marker\": {\"colorbar\": {\"outlinewidth\": 0, \"ticks\": \"\"}}, \"type\": \"scatter\"}], \"scatter3d\": [{\"line\": {\"colorbar\": {\"outlinewidth\": 0, \"ticks\": \"\"}}, \"marker\": {\"colorbar\": {\"outlinewidth\": 0, \"ticks\": \"\"}}, \"type\": \"scatter3d\"}], \"scattercarpet\": [{\"marker\": {\"colorbar\": {\"outlinewidth\": 0, \"ticks\": \"\"}}, \"type\": \"scattercarpet\"}], \"scattergeo\": [{\"marker\": {\"colorbar\": {\"outlinewidth\": 0, \"ticks\": \"\"}}, \"type\": \"scattergeo\"}], \"scattergl\": [{\"marker\": {\"colorbar\": {\"outlinewidth\": 0, \"ticks\": \"\"}}, \"type\": \"scattergl\"}], \"scattermapbox\": [{\"marker\": {\"colorbar\": {\"outlinewidth\": 0, \"ticks\": \"\"}}, \"type\": \"scattermapbox\"}], \"scatterpolar\": [{\"marker\": {\"colorbar\": {\"outlinewidth\": 0, \"ticks\": \"\"}}, \"type\": \"scatterpolar\"}], \"scatterpolargl\": [{\"marker\": {\"colorbar\": {\"outlinewidth\": 0, \"ticks\": \"\"}}, \"type\": \"scatterpolargl\"}], \"scatterternary\": [{\"marker\": {\"colorbar\": {\"outlinewidth\": 0, \"ticks\": \"\"}}, \"type\": \"scatterternary\"}], \"surface\": [{\"colorbar\": {\"outlinewidth\": 0, \"ticks\": \"\"}, \"colorscale\": [[0.0, \"#0d0887\"], [0.1111111111111111, \"#46039f\"], [0.2222222222222222, \"#7201a8\"], [0.3333333333333333, \"#9c179e\"], [0.4444444444444444, \"#bd3786\"], [0.5555555555555556, \"#d8576b\"], [0.6666666666666666, \"#ed7953\"], [0.7777777777777778, \"#fb9f3a\"], [0.8888888888888888, \"#fdca26\"], [1.0, \"#f0f921\"]], \"type\": \"surface\"}], \"table\": [{\"cells\": {\"fill\": {\"color\": \"#EBF0F8\"}, \"line\": {\"color\": \"white\"}}, \"header\": {\"fill\": {\"color\": \"#C8D4E3\"}, \"line\": {\"color\": \"white\"}}, \"type\": \"table\"}]}, \"layout\": {\"annotationdefaults\": {\"arrowcolor\": \"#2a3f5f\", \"arrowhead\": 0, \"arrowwidth\": 1}, \"colorscale\": {\"diverging\": [[0, \"#8e0152\"], [0.1, \"#c51b7d\"], [0.2, \"#de77ae\"], [0.3, \"#f1b6da\"], [0.4, \"#fde0ef\"], [0.5, \"#f7f7f7\"], [0.6, \"#e6f5d0\"], [0.7, \"#b8e186\"], [0.8, \"#7fbc41\"], [0.9, \"#4d9221\"], [1, \"#276419\"]], \"sequential\": [[0.0, \"#0d0887\"], [0.1111111111111111, \"#46039f\"], [0.2222222222222222, \"#7201a8\"], [0.3333333333333333, \"#9c179e\"], [0.4444444444444444, \"#bd3786\"], [0.5555555555555556, \"#d8576b\"], [0.6666666666666666, \"#ed7953\"], [0.7777777777777778, \"#fb9f3a\"], [0.8888888888888888, \"#fdca26\"], [1.0, \"#f0f921\"]], \"sequentialminus\": [[0.0, \"#0d0887\"], [0.1111111111111111, \"#46039f\"], [0.2222222222222222, \"#7201a8\"], [0.3333333333333333, \"#9c179e\"], [0.4444444444444444, \"#bd3786\"], [0.5555555555555556, \"#d8576b\"], [0.6666666666666666, \"#ed7953\"], [0.7777777777777778, \"#fb9f3a\"], [0.8888888888888888, \"#fdca26\"], [1.0, \"#f0f921\"]]}, \"colorway\": [\"#636efa\", \"#EF553B\", \"#00cc96\", \"#ab63fa\", \"#FFA15A\", \"#19d3f3\", \"#FF6692\", \"#B6E880\", \"#FF97FF\", \"#FECB52\"], \"font\": {\"color\": \"#2a3f5f\"}, \"geo\": {\"bgcolor\": \"white\", \"lakecolor\": \"white\", \"landcolor\": \"#E5ECF6\", \"showlakes\": true, \"showland\": true, \"subunitcolor\": \"white\"}, \"hoverlabel\": {\"align\": \"left\"}, \"hovermode\": \"closest\", \"mapbox\": {\"style\": \"light\"}, \"paper_bgcolor\": \"white\", \"plot_bgcolor\": \"#E5ECF6\", \"polar\": {\"angularaxis\": {\"gridcolor\": \"white\", \"linecolor\": \"white\", \"ticks\": \"\"}, \"bgcolor\": \"#E5ECF6\", \"radialaxis\": {\"gridcolor\": \"white\", \"linecolor\": \"white\", \"ticks\": \"\"}}, \"scene\": {\"xaxis\": {\"backgroundcolor\": \"#E5ECF6\", \"gridcolor\": \"white\", \"gridwidth\": 2, \"linecolor\": \"white\", \"showbackground\": true, \"ticks\": \"\", \"zerolinecolor\": \"white\"}, \"yaxis\": {\"backgroundcolor\": \"#E5ECF6\", \"gridcolor\": \"white\", \"gridwidth\": 2, \"linecolor\": \"white\", \"showbackground\": true, \"ticks\": \"\", \"zerolinecolor\": \"white\"}, \"zaxis\": {\"backgroundcolor\": \"#E5ECF6\", \"gridcolor\": \"white\", \"gridwidth\": 2, \"linecolor\": \"white\", \"showbackground\": true, \"ticks\": \"\", \"zerolinecolor\": \"white\"}}, \"shapedefaults\": {\"line\": {\"color\": \"#2a3f5f\"}}, \"ternary\": {\"aaxis\": {\"gridcolor\": \"white\", \"linecolor\": \"white\", \"ticks\": \"\"}, \"baxis\": {\"gridcolor\": \"white\", \"linecolor\": \"white\", \"ticks\": \"\"}, \"bgcolor\": \"#E5ECF6\", \"caxis\": {\"gridcolor\": \"white\", \"linecolor\": \"white\", \"ticks\": \"\"}}, \"title\": {\"x\": 0.05}, \"xaxis\": {\"automargin\": true, \"gridcolor\": \"white\", \"linecolor\": \"white\", \"ticks\": \"\", \"zerolinecolor\": \"white\", \"zerolinewidth\": 2}, \"yaxis\": {\"automargin\": true, \"gridcolor\": \"white\", \"linecolor\": \"white\", \"ticks\": \"\", \"zerolinecolor\": \"white\", \"zerolinewidth\": 2}}}},\n",
       "                        {\"responsive\": true}\n",
       "                    ).then(function(){\n",
       "                            \n",
       "var gd = document.getElementById('7bd0235f-ff4d-491b-99d7-5dea3b9288cd');\n",
       "var x = new MutationObserver(function (mutations, observer) {{\n",
       "        var display = window.getComputedStyle(gd).display;\n",
       "        if (!display || display === 'none') {{\n",
       "            console.log([gd, 'removed!']);\n",
       "            Plotly.purge(gd);\n",
       "            observer.disconnect();\n",
       "        }}\n",
       "}});\n",
       "\n",
       "// Listen for the removal of the full notebook cells\n",
       "var notebookContainer = gd.closest('#notebook-container');\n",
       "if (notebookContainer) {{\n",
       "    x.observe(notebookContainer, {childList: true});\n",
       "}}\n",
       "\n",
       "// Listen for the clearing of the current output cell\n",
       "var outputEl = gd.closest('.output');\n",
       "if (outputEl) {{\n",
       "    x.observe(outputEl, {childList: true});\n",
       "}}\n",
       "\n",
       "                        })\n",
       "                };\n",
       "                });\n",
       "            </script>\n",
       "        </div>"
      ]
     },
     "metadata": {},
     "output_type": "display_data"
    }
   ],
   "source": [
    "import plotly.graph_objects as go\n",
    "\n",
    "precos_x = [i for i in range(0,2600,100)]\n",
    "precos_y = [0 for i in range(len(precos_x))]\n",
    "\n",
    "for line in vetor_processed:\n",
    "    preco = float(vetor_processed[line][3].replace('.', ''))\n",
    "    precos_y[len(precos_x) - 1 if preco > 2500 else int(preco // 100)]+= 1\n",
    "\n",
    "fig = go.Figure([go.Bar(x=precos_x, y=precos_y)])\n",
    "fig.show()"
   ]
  },
  {
   "cell_type": "markdown",
   "metadata": {},
   "source": [
    "### Tempo médio que o anúncio ficou na plataforma:"
   ]
  },
  {
   "cell_type": "code",
   "execution_count": 164,
   "metadata": {},
   "outputs": [
    {
     "data": {
      "application/vnd.plotly.v1+json": {
       "config": {
        "plotlyServerURL": "https://plot.ly"
       },
       "data": [
        {
         "type": "bar",
         "x": [
          1,
          2,
          3,
          4,
          5,
          6,
          7,
          8,
          9,
          10,
          11,
          12,
          13,
          14,
          15,
          16,
          17,
          18,
          19,
          20,
          21,
          22,
          23,
          24,
          25,
          26,
          27,
          28,
          29,
          30
         ],
         "y": [
          392,
          68,
          243,
          332,
          0,
          139,
          144,
          65,
          255,
          0,
          148,
          163,
          166,
          78,
          66,
          47,
          167,
          322,
          0,
          132,
          94,
          77,
          64,
          148,
          179,
          60,
          202,
          64,
          101,
          3309
         ]
        }
       ],
       "layout": {
        "template": {
         "data": {
          "bar": [
           {
            "error_x": {
             "color": "#2a3f5f"
            },
            "error_y": {
             "color": "#2a3f5f"
            },
            "marker": {
             "line": {
              "color": "#E5ECF6",
              "width": 0.5
             }
            },
            "type": "bar"
           }
          ],
          "barpolar": [
           {
            "marker": {
             "line": {
              "color": "#E5ECF6",
              "width": 0.5
             }
            },
            "type": "barpolar"
           }
          ],
          "carpet": [
           {
            "aaxis": {
             "endlinecolor": "#2a3f5f",
             "gridcolor": "white",
             "linecolor": "white",
             "minorgridcolor": "white",
             "startlinecolor": "#2a3f5f"
            },
            "baxis": {
             "endlinecolor": "#2a3f5f",
             "gridcolor": "white",
             "linecolor": "white",
             "minorgridcolor": "white",
             "startlinecolor": "#2a3f5f"
            },
            "type": "carpet"
           }
          ],
          "choropleth": [
           {
            "colorbar": {
             "outlinewidth": 0,
             "ticks": ""
            },
            "type": "choropleth"
           }
          ],
          "contour": [
           {
            "colorbar": {
             "outlinewidth": 0,
             "ticks": ""
            },
            "colorscale": [
             [
              0,
              "#0d0887"
             ],
             [
              0.1111111111111111,
              "#46039f"
             ],
             [
              0.2222222222222222,
              "#7201a8"
             ],
             [
              0.3333333333333333,
              "#9c179e"
             ],
             [
              0.4444444444444444,
              "#bd3786"
             ],
             [
              0.5555555555555556,
              "#d8576b"
             ],
             [
              0.6666666666666666,
              "#ed7953"
             ],
             [
              0.7777777777777778,
              "#fb9f3a"
             ],
             [
              0.8888888888888888,
              "#fdca26"
             ],
             [
              1,
              "#f0f921"
             ]
            ],
            "type": "contour"
           }
          ],
          "contourcarpet": [
           {
            "colorbar": {
             "outlinewidth": 0,
             "ticks": ""
            },
            "type": "contourcarpet"
           }
          ],
          "heatmap": [
           {
            "colorbar": {
             "outlinewidth": 0,
             "ticks": ""
            },
            "colorscale": [
             [
              0,
              "#0d0887"
             ],
             [
              0.1111111111111111,
              "#46039f"
             ],
             [
              0.2222222222222222,
              "#7201a8"
             ],
             [
              0.3333333333333333,
              "#9c179e"
             ],
             [
              0.4444444444444444,
              "#bd3786"
             ],
             [
              0.5555555555555556,
              "#d8576b"
             ],
             [
              0.6666666666666666,
              "#ed7953"
             ],
             [
              0.7777777777777778,
              "#fb9f3a"
             ],
             [
              0.8888888888888888,
              "#fdca26"
             ],
             [
              1,
              "#f0f921"
             ]
            ],
            "type": "heatmap"
           }
          ],
          "heatmapgl": [
           {
            "colorbar": {
             "outlinewidth": 0,
             "ticks": ""
            },
            "colorscale": [
             [
              0,
              "#0d0887"
             ],
             [
              0.1111111111111111,
              "#46039f"
             ],
             [
              0.2222222222222222,
              "#7201a8"
             ],
             [
              0.3333333333333333,
              "#9c179e"
             ],
             [
              0.4444444444444444,
              "#bd3786"
             ],
             [
              0.5555555555555556,
              "#d8576b"
             ],
             [
              0.6666666666666666,
              "#ed7953"
             ],
             [
              0.7777777777777778,
              "#fb9f3a"
             ],
             [
              0.8888888888888888,
              "#fdca26"
             ],
             [
              1,
              "#f0f921"
             ]
            ],
            "type": "heatmapgl"
           }
          ],
          "histogram": [
           {
            "marker": {
             "colorbar": {
              "outlinewidth": 0,
              "ticks": ""
             }
            },
            "type": "histogram"
           }
          ],
          "histogram2d": [
           {
            "colorbar": {
             "outlinewidth": 0,
             "ticks": ""
            },
            "colorscale": [
             [
              0,
              "#0d0887"
             ],
             [
              0.1111111111111111,
              "#46039f"
             ],
             [
              0.2222222222222222,
              "#7201a8"
             ],
             [
              0.3333333333333333,
              "#9c179e"
             ],
             [
              0.4444444444444444,
              "#bd3786"
             ],
             [
              0.5555555555555556,
              "#d8576b"
             ],
             [
              0.6666666666666666,
              "#ed7953"
             ],
             [
              0.7777777777777778,
              "#fb9f3a"
             ],
             [
              0.8888888888888888,
              "#fdca26"
             ],
             [
              1,
              "#f0f921"
             ]
            ],
            "type": "histogram2d"
           }
          ],
          "histogram2dcontour": [
           {
            "colorbar": {
             "outlinewidth": 0,
             "ticks": ""
            },
            "colorscale": [
             [
              0,
              "#0d0887"
             ],
             [
              0.1111111111111111,
              "#46039f"
             ],
             [
              0.2222222222222222,
              "#7201a8"
             ],
             [
              0.3333333333333333,
              "#9c179e"
             ],
             [
              0.4444444444444444,
              "#bd3786"
             ],
             [
              0.5555555555555556,
              "#d8576b"
             ],
             [
              0.6666666666666666,
              "#ed7953"
             ],
             [
              0.7777777777777778,
              "#fb9f3a"
             ],
             [
              0.8888888888888888,
              "#fdca26"
             ],
             [
              1,
              "#f0f921"
             ]
            ],
            "type": "histogram2dcontour"
           }
          ],
          "mesh3d": [
           {
            "colorbar": {
             "outlinewidth": 0,
             "ticks": ""
            },
            "type": "mesh3d"
           }
          ],
          "parcoords": [
           {
            "line": {
             "colorbar": {
              "outlinewidth": 0,
              "ticks": ""
             }
            },
            "type": "parcoords"
           }
          ],
          "scatter": [
           {
            "marker": {
             "colorbar": {
              "outlinewidth": 0,
              "ticks": ""
             }
            },
            "type": "scatter"
           }
          ],
          "scatter3d": [
           {
            "line": {
             "colorbar": {
              "outlinewidth": 0,
              "ticks": ""
             }
            },
            "marker": {
             "colorbar": {
              "outlinewidth": 0,
              "ticks": ""
             }
            },
            "type": "scatter3d"
           }
          ],
          "scattercarpet": [
           {
            "marker": {
             "colorbar": {
              "outlinewidth": 0,
              "ticks": ""
             }
            },
            "type": "scattercarpet"
           }
          ],
          "scattergeo": [
           {
            "marker": {
             "colorbar": {
              "outlinewidth": 0,
              "ticks": ""
             }
            },
            "type": "scattergeo"
           }
          ],
          "scattergl": [
           {
            "marker": {
             "colorbar": {
              "outlinewidth": 0,
              "ticks": ""
             }
            },
            "type": "scattergl"
           }
          ],
          "scattermapbox": [
           {
            "marker": {
             "colorbar": {
              "outlinewidth": 0,
              "ticks": ""
             }
            },
            "type": "scattermapbox"
           }
          ],
          "scatterpolar": [
           {
            "marker": {
             "colorbar": {
              "outlinewidth": 0,
              "ticks": ""
             }
            },
            "type": "scatterpolar"
           }
          ],
          "scatterpolargl": [
           {
            "marker": {
             "colorbar": {
              "outlinewidth": 0,
              "ticks": ""
             }
            },
            "type": "scatterpolargl"
           }
          ],
          "scatterternary": [
           {
            "marker": {
             "colorbar": {
              "outlinewidth": 0,
              "ticks": ""
             }
            },
            "type": "scatterternary"
           }
          ],
          "surface": [
           {
            "colorbar": {
             "outlinewidth": 0,
             "ticks": ""
            },
            "colorscale": [
             [
              0,
              "#0d0887"
             ],
             [
              0.1111111111111111,
              "#46039f"
             ],
             [
              0.2222222222222222,
              "#7201a8"
             ],
             [
              0.3333333333333333,
              "#9c179e"
             ],
             [
              0.4444444444444444,
              "#bd3786"
             ],
             [
              0.5555555555555556,
              "#d8576b"
             ],
             [
              0.6666666666666666,
              "#ed7953"
             ],
             [
              0.7777777777777778,
              "#fb9f3a"
             ],
             [
              0.8888888888888888,
              "#fdca26"
             ],
             [
              1,
              "#f0f921"
             ]
            ],
            "type": "surface"
           }
          ],
          "table": [
           {
            "cells": {
             "fill": {
              "color": "#EBF0F8"
             },
             "line": {
              "color": "white"
             }
            },
            "header": {
             "fill": {
              "color": "#C8D4E3"
             },
             "line": {
              "color": "white"
             }
            },
            "type": "table"
           }
          ]
         },
         "layout": {
          "annotationdefaults": {
           "arrowcolor": "#2a3f5f",
           "arrowhead": 0,
           "arrowwidth": 1
          },
          "colorscale": {
           "diverging": [
            [
             0,
             "#8e0152"
            ],
            [
             0.1,
             "#c51b7d"
            ],
            [
             0.2,
             "#de77ae"
            ],
            [
             0.3,
             "#f1b6da"
            ],
            [
             0.4,
             "#fde0ef"
            ],
            [
             0.5,
             "#f7f7f7"
            ],
            [
             0.6,
             "#e6f5d0"
            ],
            [
             0.7,
             "#b8e186"
            ],
            [
             0.8,
             "#7fbc41"
            ],
            [
             0.9,
             "#4d9221"
            ],
            [
             1,
             "#276419"
            ]
           ],
           "sequential": [
            [
             0,
             "#0d0887"
            ],
            [
             0.1111111111111111,
             "#46039f"
            ],
            [
             0.2222222222222222,
             "#7201a8"
            ],
            [
             0.3333333333333333,
             "#9c179e"
            ],
            [
             0.4444444444444444,
             "#bd3786"
            ],
            [
             0.5555555555555556,
             "#d8576b"
            ],
            [
             0.6666666666666666,
             "#ed7953"
            ],
            [
             0.7777777777777778,
             "#fb9f3a"
            ],
            [
             0.8888888888888888,
             "#fdca26"
            ],
            [
             1,
             "#f0f921"
            ]
           ],
           "sequentialminus": [
            [
             0,
             "#0d0887"
            ],
            [
             0.1111111111111111,
             "#46039f"
            ],
            [
             0.2222222222222222,
             "#7201a8"
            ],
            [
             0.3333333333333333,
             "#9c179e"
            ],
            [
             0.4444444444444444,
             "#bd3786"
            ],
            [
             0.5555555555555556,
             "#d8576b"
            ],
            [
             0.6666666666666666,
             "#ed7953"
            ],
            [
             0.7777777777777778,
             "#fb9f3a"
            ],
            [
             0.8888888888888888,
             "#fdca26"
            ],
            [
             1,
             "#f0f921"
            ]
           ]
          },
          "colorway": [
           "#636efa",
           "#EF553B",
           "#00cc96",
           "#ab63fa",
           "#FFA15A",
           "#19d3f3",
           "#FF6692",
           "#B6E880",
           "#FF97FF",
           "#FECB52"
          ],
          "font": {
           "color": "#2a3f5f"
          },
          "geo": {
           "bgcolor": "white",
           "lakecolor": "white",
           "landcolor": "#E5ECF6",
           "showlakes": true,
           "showland": true,
           "subunitcolor": "white"
          },
          "hoverlabel": {
           "align": "left"
          },
          "hovermode": "closest",
          "mapbox": {
           "style": "light"
          },
          "paper_bgcolor": "white",
          "plot_bgcolor": "#E5ECF6",
          "polar": {
           "angularaxis": {
            "gridcolor": "white",
            "linecolor": "white",
            "ticks": ""
           },
           "bgcolor": "#E5ECF6",
           "radialaxis": {
            "gridcolor": "white",
            "linecolor": "white",
            "ticks": ""
           }
          },
          "scene": {
           "xaxis": {
            "backgroundcolor": "#E5ECF6",
            "gridcolor": "white",
            "gridwidth": 2,
            "linecolor": "white",
            "showbackground": true,
            "ticks": "",
            "zerolinecolor": "white"
           },
           "yaxis": {
            "backgroundcolor": "#E5ECF6",
            "gridcolor": "white",
            "gridwidth": 2,
            "linecolor": "white",
            "showbackground": true,
            "ticks": "",
            "zerolinecolor": "white"
           },
           "zaxis": {
            "backgroundcolor": "#E5ECF6",
            "gridcolor": "white",
            "gridwidth": 2,
            "linecolor": "white",
            "showbackground": true,
            "ticks": "",
            "zerolinecolor": "white"
           }
          },
          "shapedefaults": {
           "line": {
            "color": "#2a3f5f"
           }
          },
          "ternary": {
           "aaxis": {
            "gridcolor": "white",
            "linecolor": "white",
            "ticks": ""
           },
           "baxis": {
            "gridcolor": "white",
            "linecolor": "white",
            "ticks": ""
           },
           "bgcolor": "#E5ECF6",
           "caxis": {
            "gridcolor": "white",
            "linecolor": "white",
            "ticks": ""
           }
          },
          "title": {
           "x": 0.05
          },
          "xaxis": {
           "automargin": true,
           "gridcolor": "white",
           "linecolor": "white",
           "ticks": "",
           "zerolinecolor": "white",
           "zerolinewidth": 2
          },
          "yaxis": {
           "automargin": true,
           "gridcolor": "white",
           "linecolor": "white",
           "ticks": "",
           "zerolinecolor": "white",
           "zerolinewidth": 2
          }
         }
        }
       }
      },
      "text/html": [
       "<div>\n",
       "        \n",
       "        \n",
       "            <div id=\"22c836b5-e02f-42b4-9472-5e0861af9b8e\" class=\"plotly-graph-div\" style=\"height:525px; width:100%;\"></div>\n",
       "            <script type=\"text/javascript\">\n",
       "                require([\"plotly\"], function(Plotly) {\n",
       "                    window.PLOTLYENV=window.PLOTLYENV || {};\n",
       "                    \n",
       "                if (document.getElementById(\"22c836b5-e02f-42b4-9472-5e0861af9b8e\")) {\n",
       "                    Plotly.newPlot(\n",
       "                        '22c836b5-e02f-42b4-9472-5e0861af9b8e',\n",
       "                        [{\"type\": \"bar\", \"x\": [1, 2, 3, 4, 5, 6, 7, 8, 9, 10, 11, 12, 13, 14, 15, 16, 17, 18, 19, 20, 21, 22, 23, 24, 25, 26, 27, 28, 29, 30], \"y\": [392, 68, 243, 332, 0, 139, 144, 65, 255, 0, 148, 163, 166, 78, 66, 47, 167, 322, 0, 132, 94, 77, 64, 148, 179, 60, 202, 64, 101, 3309]}],\n",
       "                        {\"template\": {\"data\": {\"bar\": [{\"error_x\": {\"color\": \"#2a3f5f\"}, \"error_y\": {\"color\": \"#2a3f5f\"}, \"marker\": {\"line\": {\"color\": \"#E5ECF6\", \"width\": 0.5}}, \"type\": \"bar\"}], \"barpolar\": [{\"marker\": {\"line\": {\"color\": \"#E5ECF6\", \"width\": 0.5}}, \"type\": \"barpolar\"}], \"carpet\": [{\"aaxis\": {\"endlinecolor\": \"#2a3f5f\", \"gridcolor\": \"white\", \"linecolor\": \"white\", \"minorgridcolor\": \"white\", \"startlinecolor\": \"#2a3f5f\"}, \"baxis\": {\"endlinecolor\": \"#2a3f5f\", \"gridcolor\": \"white\", \"linecolor\": \"white\", \"minorgridcolor\": \"white\", \"startlinecolor\": \"#2a3f5f\"}, \"type\": \"carpet\"}], \"choropleth\": [{\"colorbar\": {\"outlinewidth\": 0, \"ticks\": \"\"}, \"type\": \"choropleth\"}], \"contour\": [{\"colorbar\": {\"outlinewidth\": 0, \"ticks\": \"\"}, \"colorscale\": [[0.0, \"#0d0887\"], [0.1111111111111111, \"#46039f\"], [0.2222222222222222, \"#7201a8\"], [0.3333333333333333, \"#9c179e\"], [0.4444444444444444, \"#bd3786\"], [0.5555555555555556, \"#d8576b\"], [0.6666666666666666, \"#ed7953\"], [0.7777777777777778, \"#fb9f3a\"], [0.8888888888888888, \"#fdca26\"], [1.0, \"#f0f921\"]], \"type\": \"contour\"}], \"contourcarpet\": [{\"colorbar\": {\"outlinewidth\": 0, \"ticks\": \"\"}, \"type\": \"contourcarpet\"}], \"heatmap\": [{\"colorbar\": {\"outlinewidth\": 0, \"ticks\": \"\"}, \"colorscale\": [[0.0, \"#0d0887\"], [0.1111111111111111, \"#46039f\"], [0.2222222222222222, \"#7201a8\"], [0.3333333333333333, \"#9c179e\"], [0.4444444444444444, \"#bd3786\"], [0.5555555555555556, \"#d8576b\"], [0.6666666666666666, \"#ed7953\"], [0.7777777777777778, \"#fb9f3a\"], [0.8888888888888888, \"#fdca26\"], [1.0, \"#f0f921\"]], \"type\": \"heatmap\"}], \"heatmapgl\": [{\"colorbar\": {\"outlinewidth\": 0, \"ticks\": \"\"}, \"colorscale\": [[0.0, \"#0d0887\"], [0.1111111111111111, \"#46039f\"], [0.2222222222222222, \"#7201a8\"], [0.3333333333333333, \"#9c179e\"], [0.4444444444444444, \"#bd3786\"], [0.5555555555555556, \"#d8576b\"], [0.6666666666666666, \"#ed7953\"], [0.7777777777777778, \"#fb9f3a\"], [0.8888888888888888, \"#fdca26\"], [1.0, \"#f0f921\"]], \"type\": \"heatmapgl\"}], \"histogram\": [{\"marker\": {\"colorbar\": {\"outlinewidth\": 0, \"ticks\": \"\"}}, \"type\": \"histogram\"}], \"histogram2d\": [{\"colorbar\": {\"outlinewidth\": 0, \"ticks\": \"\"}, \"colorscale\": [[0.0, \"#0d0887\"], [0.1111111111111111, \"#46039f\"], [0.2222222222222222, \"#7201a8\"], [0.3333333333333333, \"#9c179e\"], [0.4444444444444444, \"#bd3786\"], [0.5555555555555556, \"#d8576b\"], [0.6666666666666666, \"#ed7953\"], [0.7777777777777778, \"#fb9f3a\"], [0.8888888888888888, \"#fdca26\"], [1.0, \"#f0f921\"]], \"type\": \"histogram2d\"}], \"histogram2dcontour\": [{\"colorbar\": {\"outlinewidth\": 0, \"ticks\": \"\"}, \"colorscale\": [[0.0, \"#0d0887\"], [0.1111111111111111, \"#46039f\"], [0.2222222222222222, \"#7201a8\"], [0.3333333333333333, \"#9c179e\"], [0.4444444444444444, \"#bd3786\"], [0.5555555555555556, \"#d8576b\"], [0.6666666666666666, \"#ed7953\"], [0.7777777777777778, \"#fb9f3a\"], [0.8888888888888888, \"#fdca26\"], [1.0, \"#f0f921\"]], \"type\": \"histogram2dcontour\"}], \"mesh3d\": [{\"colorbar\": {\"outlinewidth\": 0, \"ticks\": \"\"}, \"type\": \"mesh3d\"}], \"parcoords\": [{\"line\": {\"colorbar\": {\"outlinewidth\": 0, \"ticks\": \"\"}}, \"type\": \"parcoords\"}], \"scatter\": [{\"marker\": {\"colorbar\": {\"outlinewidth\": 0, \"ticks\": \"\"}}, \"type\": \"scatter\"}], \"scatter3d\": [{\"line\": {\"colorbar\": {\"outlinewidth\": 0, \"ticks\": \"\"}}, \"marker\": {\"colorbar\": {\"outlinewidth\": 0, \"ticks\": \"\"}}, \"type\": \"scatter3d\"}], \"scattercarpet\": [{\"marker\": {\"colorbar\": {\"outlinewidth\": 0, \"ticks\": \"\"}}, \"type\": \"scattercarpet\"}], \"scattergeo\": [{\"marker\": {\"colorbar\": {\"outlinewidth\": 0, \"ticks\": \"\"}}, \"type\": \"scattergeo\"}], \"scattergl\": [{\"marker\": {\"colorbar\": {\"outlinewidth\": 0, \"ticks\": \"\"}}, \"type\": \"scattergl\"}], \"scattermapbox\": [{\"marker\": {\"colorbar\": {\"outlinewidth\": 0, \"ticks\": \"\"}}, \"type\": \"scattermapbox\"}], \"scatterpolar\": [{\"marker\": {\"colorbar\": {\"outlinewidth\": 0, \"ticks\": \"\"}}, \"type\": \"scatterpolar\"}], \"scatterpolargl\": [{\"marker\": {\"colorbar\": {\"outlinewidth\": 0, \"ticks\": \"\"}}, \"type\": \"scatterpolargl\"}], \"scatterternary\": [{\"marker\": {\"colorbar\": {\"outlinewidth\": 0, \"ticks\": \"\"}}, \"type\": \"scatterternary\"}], \"surface\": [{\"colorbar\": {\"outlinewidth\": 0, \"ticks\": \"\"}, \"colorscale\": [[0.0, \"#0d0887\"], [0.1111111111111111, \"#46039f\"], [0.2222222222222222, \"#7201a8\"], [0.3333333333333333, \"#9c179e\"], [0.4444444444444444, \"#bd3786\"], [0.5555555555555556, \"#d8576b\"], [0.6666666666666666, \"#ed7953\"], [0.7777777777777778, \"#fb9f3a\"], [0.8888888888888888, \"#fdca26\"], [1.0, \"#f0f921\"]], \"type\": \"surface\"}], \"table\": [{\"cells\": {\"fill\": {\"color\": \"#EBF0F8\"}, \"line\": {\"color\": \"white\"}}, \"header\": {\"fill\": {\"color\": \"#C8D4E3\"}, \"line\": {\"color\": \"white\"}}, \"type\": \"table\"}]}, \"layout\": {\"annotationdefaults\": {\"arrowcolor\": \"#2a3f5f\", \"arrowhead\": 0, \"arrowwidth\": 1}, \"colorscale\": {\"diverging\": [[0, \"#8e0152\"], [0.1, \"#c51b7d\"], [0.2, \"#de77ae\"], [0.3, \"#f1b6da\"], [0.4, \"#fde0ef\"], [0.5, \"#f7f7f7\"], [0.6, \"#e6f5d0\"], [0.7, \"#b8e186\"], [0.8, \"#7fbc41\"], [0.9, \"#4d9221\"], [1, \"#276419\"]], \"sequential\": [[0.0, \"#0d0887\"], [0.1111111111111111, \"#46039f\"], [0.2222222222222222, \"#7201a8\"], [0.3333333333333333, \"#9c179e\"], [0.4444444444444444, \"#bd3786\"], [0.5555555555555556, \"#d8576b\"], [0.6666666666666666, \"#ed7953\"], [0.7777777777777778, \"#fb9f3a\"], [0.8888888888888888, \"#fdca26\"], [1.0, \"#f0f921\"]], \"sequentialminus\": [[0.0, \"#0d0887\"], [0.1111111111111111, \"#46039f\"], [0.2222222222222222, \"#7201a8\"], [0.3333333333333333, \"#9c179e\"], [0.4444444444444444, \"#bd3786\"], [0.5555555555555556, \"#d8576b\"], [0.6666666666666666, \"#ed7953\"], [0.7777777777777778, \"#fb9f3a\"], [0.8888888888888888, \"#fdca26\"], [1.0, \"#f0f921\"]]}, \"colorway\": [\"#636efa\", \"#EF553B\", \"#00cc96\", \"#ab63fa\", \"#FFA15A\", \"#19d3f3\", \"#FF6692\", \"#B6E880\", \"#FF97FF\", \"#FECB52\"], \"font\": {\"color\": \"#2a3f5f\"}, \"geo\": {\"bgcolor\": \"white\", \"lakecolor\": \"white\", \"landcolor\": \"#E5ECF6\", \"showlakes\": true, \"showland\": true, \"subunitcolor\": \"white\"}, \"hoverlabel\": {\"align\": \"left\"}, \"hovermode\": \"closest\", \"mapbox\": {\"style\": \"light\"}, \"paper_bgcolor\": \"white\", \"plot_bgcolor\": \"#E5ECF6\", \"polar\": {\"angularaxis\": {\"gridcolor\": \"white\", \"linecolor\": \"white\", \"ticks\": \"\"}, \"bgcolor\": \"#E5ECF6\", \"radialaxis\": {\"gridcolor\": \"white\", \"linecolor\": \"white\", \"ticks\": \"\"}}, \"scene\": {\"xaxis\": {\"backgroundcolor\": \"#E5ECF6\", \"gridcolor\": \"white\", \"gridwidth\": 2, \"linecolor\": \"white\", \"showbackground\": true, \"ticks\": \"\", \"zerolinecolor\": \"white\"}, \"yaxis\": {\"backgroundcolor\": \"#E5ECF6\", \"gridcolor\": \"white\", \"gridwidth\": 2, \"linecolor\": \"white\", \"showbackground\": true, \"ticks\": \"\", \"zerolinecolor\": \"white\"}, \"zaxis\": {\"backgroundcolor\": \"#E5ECF6\", \"gridcolor\": \"white\", \"gridwidth\": 2, \"linecolor\": \"white\", \"showbackground\": true, \"ticks\": \"\", \"zerolinecolor\": \"white\"}}, \"shapedefaults\": {\"line\": {\"color\": \"#2a3f5f\"}}, \"ternary\": {\"aaxis\": {\"gridcolor\": \"white\", \"linecolor\": \"white\", \"ticks\": \"\"}, \"baxis\": {\"gridcolor\": \"white\", \"linecolor\": \"white\", \"ticks\": \"\"}, \"bgcolor\": \"#E5ECF6\", \"caxis\": {\"gridcolor\": \"white\", \"linecolor\": \"white\", \"ticks\": \"\"}}, \"title\": {\"x\": 0.05}, \"xaxis\": {\"automargin\": true, \"gridcolor\": \"white\", \"linecolor\": \"white\", \"ticks\": \"\", \"zerolinecolor\": \"white\", \"zerolinewidth\": 2}, \"yaxis\": {\"automargin\": true, \"gridcolor\": \"white\", \"linecolor\": \"white\", \"ticks\": \"\", \"zerolinecolor\": \"white\", \"zerolinewidth\": 2}}}},\n",
       "                        {\"responsive\": true}\n",
       "                    ).then(function(){\n",
       "                            \n",
       "var gd = document.getElementById('22c836b5-e02f-42b4-9472-5e0861af9b8e');\n",
       "var x = new MutationObserver(function (mutations, observer) {{\n",
       "        var display = window.getComputedStyle(gd).display;\n",
       "        if (!display || display === 'none') {{\n",
       "            console.log([gd, 'removed!']);\n",
       "            Plotly.purge(gd);\n",
       "            observer.disconnect();\n",
       "        }}\n",
       "}});\n",
       "\n",
       "// Listen for the removal of the full notebook cells\n",
       "var notebookContainer = gd.closest('#notebook-container');\n",
       "if (notebookContainer) {{\n",
       "    x.observe(notebookContainer, {childList: true});\n",
       "}}\n",
       "\n",
       "// Listen for the clearing of the current output cell\n",
       "var outputEl = gd.closest('.output');\n",
       "if (outputEl) {{\n",
       "    x.observe(outputEl, {childList: true});\n",
       "}}\n",
       "\n",
       "                        })\n",
       "                };\n",
       "                });\n",
       "            </script>\n",
       "        </div>"
      ]
     },
     "metadata": {},
     "output_type": "display_data"
    }
   ],
   "source": [
    "import plotly.graph_objects as go\n",
    "\n",
    "tempo_x = [i for i in range(1, 31)]\n",
    "tempo_y = [0 for i in range(len(tempo_x))]\n",
    "\n",
    "for line in vetor_processed:\n",
    "    tempo = vetor_processed[line][5]\n",
    "    tempo_y[tempo -1]+= 1\n",
    "\n",
    "fig = go.Figure([go.Bar(x=tempo_x, y=tempo_y)])\n",
    "fig.show()"
   ]
  },
  {
   "cell_type": "code",
   "execution_count": null,
   "metadata": {},
   "outputs": [],
   "source": []
  }
 ],
 "metadata": {
  "kernelspec": {
   "display_name": "Python 3",
   "language": "python",
   "name": "python3"
  },
  "language_info": {
   "codemirror_mode": {
    "name": "ipython",
    "version": 3
   },
   "file_extension": ".py",
   "mimetype": "text/x-python",
   "name": "python",
   "nbconvert_exporter": "python",
   "pygments_lexer": "ipython3",
   "version": "3.6.8"
  }
 },
 "nbformat": 4,
 "nbformat_minor": 2
}
